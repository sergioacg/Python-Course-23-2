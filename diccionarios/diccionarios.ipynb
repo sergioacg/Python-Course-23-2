{
 "cells": [
  {
   "cell_type": "markdown",
   "id": "4414530b",
   "metadata": {},
   "source": [
    "# Diccionarios"
   ]
  },
  {
   "cell_type": "code",
   "execution_count": 4,
   "id": "6e35efba",
   "metadata": {},
   "outputs": [],
   "source": [
    "tienda = {'item'    : ['Lapiz', 'Carpeta', 'Borrador'],\n",
    "          'Cantidad': [10, 8, 19],\n",
    "          'Precio'  : [2.5, 1.2, 3]}"
   ]
  },
  {
   "cell_type": "code",
   "execution_count": 5,
   "id": "7b50292a",
   "metadata": {},
   "outputs": [
    {
     "name": "stdout",
     "output_type": "stream",
     "text": [
      "{'item': ['Lapiz', 'Carpeta', 'Borrador'], 'Cantidad': [10, 8, 19], 'Precio': [2.5, 1.2, 3]}\n"
     ]
    }
   ],
   "source": [
    "print(tienda)"
   ]
  },
  {
   "cell_type": "markdown",
   "id": "f8d1ba26",
   "metadata": {},
   "source": [
    "## Ejemplo Diccionario\n"
   ]
  },
  {
   "cell_type": "code",
   "execution_count": 6,
   "id": "fac57f7c",
   "metadata": {},
   "outputs": [],
   "source": [
    "materias = {'Instrumentación':[],\n",
    "            'Control': [],\n",
    "            'Programación': []}"
   ]
  },
  {
   "cell_type": "code",
   "execution_count": 8,
   "id": "f24309f4",
   "metadata": {},
   "outputs": [
    {
     "name": "stdout",
     "output_type": "stream",
     "text": [
      "===== INSTRUMENTACIÓN =====\n",
      "Nota 1 = 3.0\n",
      "Nota 2 = 4.2\n",
      "Nota 3 = 5\n",
      "===== CONTROL =====\n",
      "Nota 1 = 4\n",
      "Nota 2 = 3.5\n",
      "Nota 3 = 2\n",
      "===== PROGRAMACIÓN =====\n",
      "Nota 1 = 5\n",
      "Nota 2 = 4.5\n",
      "Nota 3 = 4.8\n"
     ]
    }
   ],
   "source": [
    "for materia in materias.keys():\n",
    "    print('='*5, materia.upper(), '='*5)\n",
    "    for nota in range(1, 4):\n",
    "        materias[materia].append(float(input(f'Nota {nota} = ')))\n",
    "    \n",
    "    "
   ]
  },
  {
   "cell_type": "code",
   "execution_count": 9,
   "id": "7e7d9f90",
   "metadata": {},
   "outputs": [
    {
     "name": "stdout",
     "output_type": "stream",
     "text": [
      "{'Instrumentación': [3.0, 4.2, 5.0], 'Control': [4.0, 3.5, 2.0], 'Programación': [5.0, 4.5, 4.8]}\n"
     ]
    }
   ],
   "source": [
    "print(materias)"
   ]
  },
  {
   "cell_type": "code",
   "execution_count": 10,
   "id": "9821d58c",
   "metadata": {},
   "outputs": [
    {
     "name": "stdout",
     "output_type": "stream",
     "text": [
      "Instrumentación = 4.1\n",
      "Control = 3.2\n",
      "Programación = 4.8\n"
     ]
    }
   ],
   "source": [
    "for materia, nota in materias.items(): \n",
    "    print(materia, '=', round(sum(nota)/len(nota), 1) )"
   ]
  },
  {
   "cell_type": "code",
   "execution_count": null,
   "id": "af786091",
   "metadata": {},
   "outputs": [],
   "source": []
  }
 ],
 "metadata": {
  "kernelspec": {
   "display_name": "Python 3 (ipykernel)",
   "language": "python",
   "name": "python3"
  },
  "language_info": {
   "codemirror_mode": {
    "name": "ipython",
    "version": 3
   },
   "file_extension": ".py",
   "mimetype": "text/x-python",
   "name": "python",
   "nbconvert_exporter": "python",
   "pygments_lexer": "ipython3",
   "version": "3.9.12"
  }
 },
 "nbformat": 4,
 "nbformat_minor": 5
}
