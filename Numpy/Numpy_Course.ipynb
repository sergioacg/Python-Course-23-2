{
 "cells": [
  {
   "cell_type": "markdown",
   "metadata": {},
   "source": [
    "# Numpy\n"
   ]
  },
  {
   "cell_type": "markdown",
   "metadata": {},
   "source": [
    "NumPy ( Numerical Python ) es una biblioteca Python de código abierto que se utiliza en casi todos los campos de la ciencia y la ingeniería. Es el estándar universal para trabajar con datos numéricos en Python y es el núcleo de los ecosistemas científicos de Python y PyData. \n",
    "\n",
    "Proporciona ndarray (numpy dimenional array), un objeto de matriz n-dimensional homogéneo, con métodos para operar de manera eficiente en él. \n",
    "\n"
   ]
  },
  {
   "cell_type": "markdown",
   "metadata": {},
   "source": [
    "## Instalando Numpy\n",
    "Generalmente cuando trabajamos con Numpy se suele usar con una distribución científica de Python como lo es el Anaconda y su instalación bien sea dentro de dicha distribución científica o no puede hacerse de la siguiente forma:\n",
    "Podemos usar el manejador de paquetes de Python dentro del terminal:\n"
   ]
  },
  {
   "cell_type": "code",
   "execution_count": null,
   "metadata": {},
   "outputs": [],
   "source": [
    "%pip install numpy\n",
    "#%conda install numpy\n"
   ]
  },
  {
   "cell_type": "markdown",
   "metadata": {},
   "source": [
    "## Importar Numpy"
   ]
  },
  {
   "cell_type": "code",
   "execution_count": 1,
   "metadata": {},
   "outputs": [],
   "source": [
    "import numpy as np"
   ]
  },
  {
   "cell_type": "markdown",
   "metadata": {},
   "source": [
    "## Creando Arrays con Numpy\n",
    "En particular, un array de Numpy pueden ser creados dentro de Python a través de una lista o de una tupla empleando em método .array()\n",
    "\n"
   ]
  },
  {
   "cell_type": "code",
   "execution_count": null,
   "metadata": {},
   "outputs": [],
   "source": [
    "#Via Lista\n",
    "array1 = 0\n",
    "print(array1)\n",
    "\n",
    "#Via tupla\n",
    "array2 = 0\n",
    "print(array2)\n",
    "\n",
    "#tipo ndarray\n",
    "print(type(array1))\n"
   ]
  },
  {
   "cell_type": "markdown",
   "metadata": {},
   "source": [
    "Numpy posee algunos métodos que permiten la creación rápida de arreglos con determinados elementos.\n",
    "\n",
    "* np.zeros(2): Arreglo lleno de ceros\n",
    "* np.ones(2): Arreglo lleno de unos\n",
    "* np.empty(2): crea una matriz cuyo contenido inicial es aleatorio y depende del estado de la memoria. \n",
    "* np.arange(4): crea una matriz con un rango de elementos\n"
   ]
  },
  {
   "cell_type": "code",
   "execution_count": null,
   "metadata": {},
   "outputs": [],
   "source": [
    "#try here\n",
    "azeros = 0\n",
    "print('Array Zeros', azeros)\n",
    "\n",
    "aones = 0\n",
    "print('Array Ones', aones)\n",
    "\n",
    "aempty = 0\n",
    "print('Array Empty', aempty)\n",
    "\n",
    "aran = 0\n",
    "print('Array Range', aran)\n"
   ]
  },
  {
   "cell_type": "markdown",
   "metadata": {},
   "source": [
    "Arreglo con un rango de intervalos espaciados uniformemente. Para hacer esto se debe colocar el primer número , el último número y el tamaño del paso .\n",
    "* np.arange(2, 9, 2)\n"
   ]
  },
  {
   "cell_type": "code",
   "execution_count": null,
   "metadata": {},
   "outputs": [],
   "source": [
    "#code\n",
    "aran = 0\n",
    "print(aran)"
   ]
  },
  {
   "cell_type": "markdown",
   "metadata": {},
   "source": [
    "para crear una matriz con valores que están espaciados linealmente en un intervalo específico:\n",
    "* np.linspace(0, 10, num=5)\n"
   ]
  },
  {
   "cell_type": "code",
   "execution_count": null,
   "metadata": {},
   "outputs": [],
   "source": [
    "#code\n",
    "alin = 0\n",
    "print(alin)"
   ]
  },
  {
   "cell_type": "markdown",
   "metadata": {},
   "source": [
    "## Dimensionalidad de los Arrays\n",
    "Numpy tiene varios métodos que nos permiten determinar la forma y el tamaño de un arreglo o una matriz.\n",
    "\n",
    "* *ndarray.ndim* muestra el número de ejes, o dimensiones, de la matriz.\n",
    "* *ndarray.size* muestra el número total de elementos de la matriz. Este es el producto de los elementos de la forma de la matriz.\n",
    "* *ndarray.shape* mostrará una tupla de enteros que indican el número de elementos almacenados a lo largo de cada dimensión de la matriz. Si, por ejemplo, tiene una matriz 2-D con 2 filas y 3 columnas, la forma de su matriz es (2, 3)\n"
   ]
  },
  {
   "cell_type": "code",
   "execution_count": null,
   "metadata": {},
   "outputs": [],
   "source": [
    "#code\n",
    "print('Dimension', array1.ndim)\n",
    "print('Size', aones.size)\n",
    "print('Shape', aempty.shape)\n"
   ]
  },
  {
   "cell_type": "markdown",
   "metadata": {},
   "source": [
    "En este contexto, note que con Numpy podemos crear múltiples dimensiones (profundidad) de arreglos respetando siempre que cada una de las dimensiones los arreglos estén conformados por el mismo número de elementos.\n",
    "\n",
    "* **Arreglo 0-dimensional:** Pueden ser considerados como una constante o escalar.\n"
   ]
  },
  {
   "cell_type": "code",
   "execution_count": null,
   "metadata": {},
   "outputs": [],
   "source": [
    "#code\n",
    "a0 = 0\n",
    "print('Array 0-dimensional: ', a0.ndim)\n"
   ]
  },
  {
   "cell_type": "markdown",
   "metadata": {},
   "source": [
    "**Arreglo 1-dimensional:** Arreglos con un único nivel de profundidad.\n"
   ]
  },
  {
   "cell_type": "code",
   "execution_count": null,
   "metadata": {},
   "outputs": [],
   "source": [
    "#code\n",
    "a1 = 0\n",
    "print(a1)\n",
    "print('Array 1-dimensional: ', a1.ndim)"
   ]
  },
  {
   "cell_type": "markdown",
   "metadata": {},
   "source": [
    "**Arreglo 2-dimensional:** Arreglos que contienen otros arreglos unidimensionales. Cada dimension debe respetar el la cantidad de elementos para evitar tener un error\n"
   ]
  },
  {
   "cell_type": "code",
   "execution_count": null,
   "metadata": {},
   "outputs": [],
   "source": [
    "#code\n",
    "a2 = 0\n",
    "print(a2)\n",
    "print('Array 2-dimensional: ', a2.ndim)\n",
    "\n",
    "a2wrong = 0\n",
    "print(a2wrong)\n",
    "print('Array Shape Wrong: ', a2wrong.shape)"
   ]
  },
  {
   "cell_type": "markdown",
   "metadata": {},
   "source": []
  },
  {
   "cell_type": "markdown",
   "metadata": {},
   "source": [
    "**Arreglo 3-dimensional:** Arreglos que contienen otros arreglos bidimensionales. Importante respetar el Shape\n"
   ]
  },
  {
   "cell_type": "code",
   "execution_count": null,
   "metadata": {},
   "outputs": [],
   "source": [
    "#code\n",
    "a3 = 0\n",
    "print(a3)\n",
    "print('Array 3-dimensional: ', a3.ndim)\n",
    "print('Array Shape: ', a3.shape)"
   ]
  },
  {
   "cell_type": "markdown",
   "metadata": {},
   "source": [
    "**Arreglo multi-dimensional:** Arreglos que contienen un número finito de dimensiones.\n"
   ]
  },
  {
   "cell_type": "code",
   "execution_count": null,
   "metadata": {},
   "outputs": [],
   "source": [
    "am = 0\n",
    "print(am)\n",
    "print('Array multi-dimensional: ', am.ndim)\n",
    "print('Array Shape: ', am.shape)\n"
   ]
  },
  {
   "cell_type": "markdown",
   "metadata": {},
   "source": [
    "## Remodelar un Arreglo\n",
    "El uso del método arr.reshape() permite darle una nueva forma a una matriz sin cambiar los datos. \n",
    "\n",
    "Se debe respetar que la matriz que se desea producir debe tener la misma cantidad de elementos que la matriz original. Si comienza con una matriz con 12 elementos, deberá asegurarse de que su nueva matriz también tenga un total de 12 elementos.\n"
   ]
  },
  {
   "cell_type": "code",
   "execution_count": null,
   "metadata": {},
   "outputs": [],
   "source": [
    "#code\n",
    "a = np.arange(6)\n",
    "print('Arreglo Inicial: \\n', a)\n",
    "b = 0\n",
    "print('Arreglo Remodelado: \\n', b)\n",
    "c = 0\n",
    "print('Arreglo Remodelado en Más Dimensiones: \\n', c)\n"
   ]
  },
  {
   "cell_type": "markdown",
   "metadata": {},
   "source": [
    "## Elementos de un Array\n",
    "Veremos a continuación como acceder a los datos de los arreglos creados con Numpy:\n",
    "\n",
    "**Arreglo Unidimensional:** Básicamente es igual que las listas, se accede a través de corchetes especificando el índice que se desea.\n"
   ]
  },
  {
   "cell_type": "code",
   "execution_count": null,
   "metadata": {},
   "outputs": [],
   "source": [
    "#Code\n",
    "array1 = np.array([1, 2, 3, 4])\n",
    "print(array1)\n",
    "print()\n",
    "print()\n"
   ]
  },
  {
   "cell_type": "markdown",
   "metadata": {},
   "source": [
    "**Arreglo Multidimensional:** Se tiene que especificar el índice del elemento ubicado en la dimensión **menos profunda** hasta llegar al índice del elemento indicado que se encuentra en la dimensión **más profunda** todos dentro de un corchete separados por comas.\n"
   ]
  },
  {
   "cell_type": "code",
   "execution_count": null,
   "metadata": {},
   "outputs": [],
   "source": [
    "a2 = np.array( [ [1, 2], [3, 4] ] )\n",
    "print(a2)\n",
    "print('(0, 1): ', )\n",
    "print('(1, 0): ', )\n"
   ]
  },
  {
   "cell_type": "code",
   "execution_count": null,
   "metadata": {},
   "outputs": [],
   "source": [
    "#Code Tridimensional\n",
    "a3 = np.array([ [ [1, 2, 3], [4, 5, 6] ], [ [7, 8, 9], [-1, -2, -3] ] ])\n",
    "print(a3)\n",
    "print('escalar 1: ', )\n",
    "print('escalar 2: ', )\n",
    "print('escalar 3: ', )\n",
    "print('intercalado: ', )\n",
    "print('vector: \\n', )\n",
    "print('matriz: \\n', )"
   ]
  },
  {
   "cell_type": "markdown",
   "metadata": {},
   "source": [
    "También es posible extraer de los arrays aquellos elementos que satisfagan una determinada condición lógica. Por ejemplo:\n"
   ]
  },
  {
   "cell_type": "code",
   "execution_count": null,
   "metadata": {},
   "outputs": [],
   "source": [
    "a = np.array([[1 , 2, 3, 4], [5, 6, 7, 8], [9, 10, 11, 12]])\n",
    "print('Arreglo: \\n', a)\n",
    "print('a < 6 = ', )"
   ]
  },
  {
   "cell_type": "markdown",
   "metadata": {},
   "source": [
    "También podemos indexar un nuevo array con estos condicionales"
   ]
  },
  {
   "cell_type": "code",
   "execution_count": null,
   "metadata": {},
   "outputs": [],
   "source": [
    "b = 0\n",
    "print('Nuevo arreglo con a >= 5: \\n', b)"
   ]
  },
  {
   "cell_type": "markdown",
   "metadata": {},
   "source": [
    "También se puede aplicar alguna determinada operación para la creación de un nuevo array.\n"
   ]
  },
  {
   "cell_type": "code",
   "execution_count": null,
   "metadata": {},
   "outputs": [],
   "source": [
    "c = 0\n",
    "print('Nuevo arreglo par: \\n', c)"
   ]
  },
  {
   "cell_type": "markdown",
   "metadata": {},
   "source": [
    "También puede hacer uso de los operadores lógicos & y | para devolver valores booleanos que especifican si los valores en una matriz cumplen o no una determinada condición. Esto puede ser útil con arreglos que contienen nombres u otros valores categóricos.\n"
   ]
  },
  {
   "cell_type": "code",
   "execution_count": null,
   "metadata": {},
   "outputs": [],
   "source": [
    "b = 0\n",
    "print('Arreglo Booleano que Cumple la Condición: \\n', b)\n"
   ]
  },
  {
   "cell_type": "markdown",
   "metadata": {},
   "source": [
    "## Operaciones Básicas\n",
    "La clase array permite realizar varias operaciones matemáticas de forma muy sencilla, sin embargo esta biblioteca generalmente es empleada para operar con matrices por lo que realizar operaciones de suma y resta implica que los arrays creados tengan la misma forma.\n"
   ]
  },
  {
   "cell_type": "code",
   "execution_count": null,
   "metadata": {},
   "outputs": [],
   "source": [
    "a1 = np.array([1, 2, 3, 4, 5])\n",
    "a2 = np.array([6, 7, 8, 9, 10])\n",
    "#Suma\n"
   ]
  },
  {
   "cell_type": "code",
   "execution_count": null,
   "metadata": {},
   "outputs": [],
   "source": [
    "#resta\n"
   ]
  },
  {
   "cell_type": "markdown",
   "metadata": {},
   "source": [
    "El producto, la división y la potencia necesitan que el número de columnas del primer array coincida con el número de filas del segundo array.\n"
   ]
  },
  {
   "cell_type": "code",
   "execution_count": null,
   "metadata": {},
   "outputs": [],
   "source": [
    "#Multiplicación\n",
    "\n",
    "\n"
   ]
  },
  {
   "cell_type": "code",
   "execution_count": null,
   "metadata": {},
   "outputs": [],
   "source": [
    "#División\n",
    "\n"
   ]
  },
  {
   "cell_type": "code",
   "execution_count": null,
   "metadata": {},
   "outputs": [],
   "source": [
    "#Potencia\n",
    "\n"
   ]
  },
  {
   "cell_type": "markdown",
   "metadata": {},
   "source": [
    "## Tipos de Datos\n",
    "\n",
    "En Numpy encontramos tipos de datos adicionales\n",
    "* i: integer\n",
    "* u: unsigned integer\n",
    "* f: float\n",
    "* c: complex float\n",
    "* b: boolean\n",
    "* m: timedelta (valores de tiempo)\n",
    "* M: datetime (fecha y hora)\n",
    "* O: object \n",
    "* S: string\n",
    "* U: unicode string\n",
    "* V: void\n"
   ]
  },
  {
   "cell_type": "code",
   "execution_count": null,
   "metadata": {},
   "outputs": [],
   "source": [
    "a = np.array([1, 2, 3, 4, 5])\n",
    "print(a)\n",
    "\n"
   ]
  },
  {
   "cell_type": "markdown",
   "metadata": {},
   "source": [
    "## Clonado de Arrays\n",
    "Al igual que con las listas, para compiar un arrego debemos emplear el método .copy() porque de lo contrario estaremos cayendo en los errores de codificación conocidos como los Side Effects.\n",
    "Los se encuentran referenciados en la memoria por lo tanto cuando trabajamos con subarrays todos los cambios que hagamos se verán reflejados en el array original. \n"
   ]
  },
  {
   "cell_type": "code",
   "execution_count": null,
   "metadata": {},
   "outputs": [],
   "source": [
    "a3 = np.arange(10, 80, 10)\n",
    "\n",
    "print(a3)\n"
   ]
  },
  {
   "cell_type": "markdown",
   "metadata": {},
   "source": [
    "Al igual que con las listas, para copiar un arreglo debemos emplear el método .copy() porque de lo contrario estaremos cayendo en los errores de codificación conocidos como los Side Effects"
   ]
  },
  {
   "cell_type": "code",
   "execution_count": null,
   "metadata": {},
   "outputs": [],
   "source": [
    "a = np.arange(6)\n",
    "c = 0\n",
    "print(id(a))\n",
    "print(id(c))\n"
   ]
  },
  {
   "cell_type": "markdown",
   "metadata": {},
   "source": [
    "## Recorriendo Arreglos\n",
    "Al igual que las listas la mejor forma para recorrer un arreglo es empleando el ciclo FOR.\n"
   ]
  },
  {
   "cell_type": "code",
   "execution_count": null,
   "metadata": {},
   "outputs": [],
   "source": [
    "# array 1D\n",
    "d1 = np.array([1.5, 'b', True, 4])\n",
    "\n"
   ]
  },
  {
   "cell_type": "code",
   "execution_count": null,
   "metadata": {},
   "outputs": [],
   "source": [
    "# array 2D\n",
    "d2 = np.array([[1.5, 'b', True, 4], range(4)])\n",
    "\n"
   ]
  },
  {
   "cell_type": "code",
   "execution_count": null,
   "metadata": {},
   "outputs": [],
   "source": [
    "# array 3D\n",
    "d2 = np.array([[1.5, 'b', True, 4], range(4)])\n"
   ]
  },
  {
   "cell_type": "markdown",
   "metadata": {},
   "source": [
    "Al igual que las listas la mejor forma para recorrer un arreglo es empleando el ciclo FOR.\n"
   ]
  },
  {
   "cell_type": "code",
   "execution_count": null,
   "metadata": {},
   "outputs": [],
   "source": [
    "d3 = np.array([[range(3),range(3,6),range(6,9)]])\n",
    "\n"
   ]
  },
  {
   "cell_type": "code",
   "execution_count": null,
   "metadata": {},
   "outputs": [],
   "source": [
    "d3 = np.array([[range(3),range(3,6),range(6,9)]])\n",
    "\n"
   ]
  },
  {
   "cell_type": "code",
   "execution_count": null,
   "metadata": {},
   "outputs": [],
   "source": [
    "\n"
   ]
  },
  {
   "cell_type": "markdown",
   "metadata": {},
   "source": [
    "Se puede hacer un reshape de un arreglo multidimensional a un arreglo unidimensional, sin embargo esto es solo recomendable si el arreglo NO posee una dimensión elevada.\n"
   ]
  },
  {
   "cell_type": "code",
   "execution_count": null,
   "metadata": {},
   "outputs": [],
   "source": [
    "# Array 3D\n",
    "\n"
   ]
  },
  {
   "cell_type": "markdown",
   "metadata": {},
   "source": [
    "Una manera más eficiente de hacer esto es emplear el método .nditer() que crea un iterable el cual permite imprimir todos los elementos de los arrays 1D\n"
   ]
  },
  {
   "cell_type": "code",
   "execution_count": null,
   "metadata": {},
   "outputs": [],
   "source": [
    "#code\n",
    "\n"
   ]
  },
  {
   "cell_type": "markdown",
   "metadata": {},
   "source": [
    "## Concatenar Arrays\n",
    "La forma de concatenar dos o más arrays es empleando el método .concatenate()\n"
   ]
  },
  {
   "cell_type": "code",
   "execution_count": null,
   "metadata": {},
   "outputs": [],
   "source": [
    "#code\n",
    "a1 = np.array([1, 2, 3, 4, 5])\n",
    "a2 = np.array([6, 7, 8, 9, 10])\n",
    "a3 = 0\n",
    "print(a3)\n"
   ]
  },
  {
   "cell_type": "markdown",
   "metadata": {},
   "source": [
    "Para el caso bidimensional puedo seleccionar si desea hacer la concatenación de forma vertical o horizontal colocando el atributo axis\n"
   ]
  },
  {
   "cell_type": "code",
   "execution_count": null,
   "metadata": {},
   "outputs": [],
   "source": [
    "b1 = np.array([[-3, -2.5], [-2, -1.5], [-1, -0.5]])\n",
    "b2 = np.array([[0.5, 1], [1.5, 2], [2.5, 3]])\n",
    "print('b1 = ', b1)\n",
    "print('b2 = ', b2)"
   ]
  },
  {
   "cell_type": "code",
   "execution_count": null,
   "metadata": {},
   "outputs": [],
   "source": [
    "#axis0 (Concatenación Vertical)\n",
    "b3 = 0\n",
    "print('b3 = ', b3)\n"
   ]
  },
  {
   "cell_type": "code",
   "execution_count": null,
   "metadata": {},
   "outputs": [],
   "source": [
    "#axis1 (Concatenación Horizontal)\n",
    "b4 = 0\n",
    "print('b4 = ', b4)\n"
   ]
  },
  {
   "cell_type": "code",
   "execution_count": null,
   "metadata": {},
   "outputs": [],
   "source": [
    "#Arrays para Concatenar\n",
    "c1 = np.array([[[-10, -9], [-8, -7], [-6, -5]], [[-4, -3], [-2, -1], [0, 0]]])\n",
    "c2 = np.array([[[0, 0], [1, 2], [3, 4]], [[5, 6], [7, 8], [9, 10]]])\n",
    "print('c1 = \\n', c1)\n",
    "print('c2 = \\n', c2)\n"
   ]
  },
  {
   "cell_type": "markdown",
   "metadata": {},
   "source": [
    "Concatenar en la primera dimensión (Concatena los dos arrays bidimensionales)\n"
   ]
  },
  {
   "cell_type": "code",
   "execution_count": null,
   "metadata": {},
   "outputs": [],
   "source": [
    "c3 = np.concatenate((c1, c2), axis = 0)\n",
    "print('c3 = \\n', c3)"
   ]
  },
  {
   "cell_type": "markdown",
   "metadata": {},
   "source": [
    "Concatenar en la segunda dimensión (Concatena los dos arrays unidimensionales en vertical)\n"
   ]
  },
  {
   "cell_type": "code",
   "execution_count": null,
   "metadata": {},
   "outputs": [],
   "source": [
    "c3 = np.concatenate((c1, c2), axis = 1)\n",
    "print('c3 = \\n', c3)"
   ]
  },
  {
   "cell_type": "markdown",
   "metadata": {},
   "source": [
    "Concatenar en la segunda dimensión (Concatena los dos arrays unidimensionales en horizontal)\n"
   ]
  },
  {
   "cell_type": "code",
   "execution_count": null,
   "metadata": {},
   "outputs": [],
   "source": [
    "c3 = np.concatenate((c1, c2), axis = 2)\n",
    "print('c3 = \\n', c3)"
   ]
  },
  {
   "cell_type": "markdown",
   "metadata": {},
   "source": [
    "Otra forma de concatenar arreglos es empleando el método .stack() (apilar) con la diferencia que esta concatenación se hace sobre un eje nuevo.\n"
   ]
  },
  {
   "cell_type": "code",
   "execution_count": null,
   "metadata": {},
   "outputs": [],
   "source": [
    "a1 = np.array([1, 2, 3])\n",
    "a2 = np.array([7, 8, 9])\n",
    "print('a1 = \\n', a1)\n",
    "print('a2 = \\n', a2)"
   ]
  },
  {
   "cell_type": "code",
   "execution_count": null,
   "metadata": {},
   "outputs": [],
   "source": [
    "#axis0\n",
    "a = 0\n",
    "print(a)\n"
   ]
  },
  {
   "cell_type": "code",
   "execution_count": null,
   "metadata": {},
   "outputs": [],
   "source": [
    "#axis1\n",
    "a = 0\n",
    "print(a)"
   ]
  },
  {
   "cell_type": "markdown",
   "metadata": {},
   "source": [
    "Numpy proporciona un helper hstack() para hacer una concatenación por filas, el helper vstack() lo hace por columnas y un helper dstack() para hacer una concatenación por profundidad\n"
   ]
  },
  {
   "cell_type": "code",
   "execution_count": null,
   "metadata": {},
   "outputs": [],
   "source": [
    "a1 = np.array([-3, -2, -1])\n",
    "a2 = np.array([1, 2, 3])\n",
    "print('a1 = \\n', a1)\n",
    "print('a2 = \\n', a2)"
   ]
  },
  {
   "cell_type": "code",
   "execution_count": null,
   "metadata": {},
   "outputs": [],
   "source": [
    "#hstack\n",
    "a = 0\n",
    "print(a)\n"
   ]
  },
  {
   "cell_type": "code",
   "execution_count": null,
   "metadata": {},
   "outputs": [],
   "source": [
    "#vstack\n",
    "a = 0\n",
    "print(a)\n"
   ]
  },
  {
   "cell_type": "code",
   "execution_count": null,
   "metadata": {},
   "outputs": [],
   "source": [
    "#dstack\n",
    "a = 0\n",
    "print(a)\n"
   ]
  },
  {
   "cell_type": "markdown",
   "metadata": {},
   "source": [
    "Array 2D"
   ]
  },
  {
   "cell_type": "code",
   "execution_count": null,
   "metadata": {},
   "outputs": [],
   "source": [
    "b1 = np.array([[-6, -5], [-4, -3], [-2, -1]])\n",
    "b2 = np.array([[1, 2], [3, 4], [5, 6]])\n",
    "print('b1 = \\n', b1)\n",
    "print('b2 = \\n', b2)"
   ]
  },
  {
   "cell_type": "code",
   "execution_count": null,
   "metadata": {},
   "outputs": [],
   "source": [
    "#hstack\n",
    "b = 0\n",
    "print(b)\n"
   ]
  },
  {
   "cell_type": "code",
   "execution_count": null,
   "metadata": {},
   "outputs": [],
   "source": [
    "#vstack\n",
    "b = 0\n",
    "print(b)\n"
   ]
  },
  {
   "cell_type": "code",
   "execution_count": null,
   "metadata": {},
   "outputs": [],
   "source": [
    "#dstack\n",
    "b = 0\n",
    "print(b)\n"
   ]
  },
  {
   "cell_type": "markdown",
   "metadata": {},
   "source": [
    "Array 3D"
   ]
  },
  {
   "cell_type": "code",
   "execution_count": null,
   "metadata": {},
   "outputs": [],
   "source": [
    "c1 = np.array([[[-10, -9], [-8, -7], [-6, -5]], [[-4, -3], [-2, -1], [0, 0]]])\n",
    "c2 = np.array([[[0, 0], [1, 2], [3, 4]], [[5, 6], [7, 8], [9, 10]]])\n",
    "print('c1 = \\n', c1)\n",
    "print('c2 = \\n', c2)"
   ]
  },
  {
   "cell_type": "code",
   "execution_count": null,
   "metadata": {},
   "outputs": [],
   "source": [
    "#hstack\n",
    "c = 0\n",
    "print(c)\n"
   ]
  },
  {
   "cell_type": "code",
   "execution_count": null,
   "metadata": {},
   "outputs": [],
   "source": [
    "#vstack\n",
    "c = 0\n",
    "print(c)\n"
   ]
  },
  {
   "cell_type": "code",
   "execution_count": null,
   "metadata": {},
   "outputs": [],
   "source": [
    "#dstack\n",
    "c = 0\n",
    "print(c)\n"
   ]
  },
  {
   "cell_type": "markdown",
   "metadata": {},
   "source": [
    "## División de Arrays\n",
    "El proceso inverso a la concatenación es la división de arrays. La división de arrays consiste en romper un array en múltiples arrays.\n",
    "\n",
    "**.array_split(array, division)** divide un array y lo almacena en una lista\n"
   ]
  },
  {
   "cell_type": "code",
   "execution_count": 2,
   "metadata": {},
   "outputs": [],
   "source": [
    "x = np.array([1, 2, 3, 4, 5, 6, 7, 8])\n"
   ]
  },
  {
   "cell_type": "code",
   "execution_count": 3,
   "metadata": {},
   "outputs": [
    {
     "name": "stdout",
     "output_type": "stream",
     "text": [
      "Array x = [1 2 3 4 5 6 7 8]\n",
      "Array y: 0\n"
     ]
    }
   ],
   "source": [
    "#split\n",
    "y = 0\n",
    "print(\"Array x =\", x)\n",
    "print(\"Array y:\", y)\n"
   ]
  },
  {
   "cell_type": "markdown",
   "metadata": {},
   "source": [
    "Numpy proporciona un helper hsplit() para dividir un array por filas, el helper vsplit () lo hace por columnas y el helper dsplit () lo hace por profundidad\n"
   ]
  },
  {
   "cell_type": "code",
   "execution_count": 4,
   "metadata": {},
   "outputs": [
    {
     "name": "stdout",
     "output_type": "stream",
     "text": [
      "Horizontal split [array([1, 2]), array([3, 4]), array([5, 6]), array([7, 8])]\n"
     ]
    }
   ],
   "source": [
    "#horizontal split\n",
    "h_arr = np.hsplit(x, 4)\n",
    "print('Horizontal split', h_arr)"
   ]
  },
  {
   "cell_type": "code",
   "execution_count": 14,
   "metadata": {},
   "outputs": [
    {
     "name": "stdout",
     "output_type": "stream",
     "text": [
      "Horizontal split [array([[2, 4, 6]]), array([[1, 3, 5]]), array([[ 7, 11, 10]])]\n"
     ]
    }
   ],
   "source": [
    "#vertical split (solo para arreglos de 2 o más dimensiones)\n",
    "arr2d = np.array([[2, 4, 6], [1, 3, 5], [7, 11, 10]])\n",
    "v_arr = np.vsplit(arr2d, 3)\n",
    "print('Horizontal split', v_arr)"
   ]
  },
  {
   "cell_type": "markdown",
   "metadata": {},
   "source": [
    "## Arrays Transpuestos\n",
    "\n",
    "Ya hemos observado que con NumPy podemos trabajar fácilmente con cálculo matricial, en este mismo campo, vamos a aprender como transponer arreglos y matrices.\n",
    "La traspuesta $𝑨^𝑇$ de una matriz 𝑨 puede ser obtenida reflejando los elementos a lo largo de su diagonal\n"
   ]
  },
  {
   "cell_type": "code",
   "execution_count": null,
   "metadata": {},
   "outputs": [],
   "source": [
    "q1 = np.array([[1,2,3],[4,5,6]])\n",
    "# Tranpuesta\n",
    "print()\n"
   ]
  },
  {
   "cell_type": "code",
   "execution_count": null,
   "metadata": {},
   "outputs": [],
   "source": [
    "# Tranpuesta de la transpuesta\n",
    "print()\n"
   ]
  },
  {
   "cell_type": "markdown",
   "metadata": {},
   "source": [
    "## Funciones de los Arrays"
   ]
  },
  {
   "cell_type": "markdown",
   "metadata": {},
   "source": [
    "Numpy posee unas funciones universales de la clase array que permiten aplicar funciones matemáticas comunes a los elementos del array.\n",
    "Funciones Matemáticas\n",
    "* np.add(a1, a2): Suma dos arreglos\n",
    "* np.subtract(a2, a1): Resta dos arreglos\n",
    "* np.sqrt(a1): Obtiene la raíz cuadrada del arreglo\n",
    "* np.power(a1,  2): Eleva a una potencia el arreglo\n",
    "* np.sign(a1): Devuelve el signo del arreglo\n"
   ]
  },
  {
   "cell_type": "code",
   "execution_count": 17,
   "metadata": {},
   "outputs": [
    {
     "name": "stdout",
     "output_type": "stream",
     "text": [
      "Array 1 =  [0 1 2 3 4]\n",
      "Array 2 =  [ 8 -1 -9  4  2]\n"
     ]
    }
   ],
   "source": [
    "#code\n",
    "a1 = np.arange(0, 5)\n",
    "a2 = np.array([8, -1, -9, 4, 2])\n",
    "print('Array 1 = ', a1)\n",
    "print('Array 2 = ', a2)"
   ]
  },
  {
   "cell_type": "code",
   "execution_count": null,
   "metadata": {},
   "outputs": [],
   "source": [
    "#Suma\n",
    "asum = np.add()\n",
    "print('Suma de Arreglos = ', asum)"
   ]
  },
  {
   "cell_type": "code",
   "execution_count": null,
   "metadata": {},
   "outputs": [],
   "source": [
    "#Resta\n",
    "ares = np.subtract()\n",
    "print('Resta de Arreglos = ', ares)"
   ]
  },
  {
   "cell_type": "code",
   "execution_count": null,
   "metadata": {},
   "outputs": [],
   "source": [
    "#Raíz cuadrada a cada elemento\n",
    "asqrt = np.sqrt()\n",
    "print('Raíz Cuadrada de Arreglos = ', asqrt)"
   ]
  },
  {
   "cell_type": "code",
   "execution_count": null,
   "metadata": {},
   "outputs": [],
   "source": [
    "#Potencias\n",
    "apow = np.power()\n",
    "print('Potencia de Arreglos = ', apow)"
   ]
  },
  {
   "cell_type": "code",
   "execution_count": null,
   "metadata": {},
   "outputs": [],
   "source": [
    "#Signos\n",
    "asig = np.sign(a2)\n",
    "print('Signos de los elementos del vector = ', asig)"
   ]
  },
  {
   "cell_type": "markdown",
   "metadata": {},
   "source": [
    "Numpy posee unas funciones universales de la clase array que permiten aplicar funciones matemáticas comunes a los elementos del array.\n",
    "**Funciones Trigonométricas**\n",
    "\n",
    "np.sin(a_1): Calcula el seno\n",
    "\n",
    "np.tan(a_1): Calcula el coseno\n",
    "\n",
    "np.deg2rad(a_1): Convierte de grados a radianes\n"
   ]
  },
  {
   "cell_type": "code",
   "execution_count": null,
   "metadata": {},
   "outputs": [],
   "source": [
    "#Code\n"
   ]
  },
  {
   "cell_type": "markdown",
   "metadata": {},
   "source": [
    "Numpy posee unas funciones universales de la clase array que permiten aplicar funciones matemáticas comunes a los elementos del array.\n",
    "**Funciones Comparativas**\n",
    "\n",
    "np.maximum(a1, a2): Obtiene el máximo de dos arrays\n",
    "\n",
    "np.equal(a1, a2): Compara los índices iguales\n",
    "\n",
    "np.greater(a1, a2): Compara quien es más grande\n"
   ]
  },
  {
   "cell_type": "code",
   "execution_count": null,
   "metadata": {},
   "outputs": [],
   "source": [
    "#code\n",
    "a1 = np.arange(0, 5)\n",
    "a2 = np.array([8, -1, -9, 2, 4])\n",
    "print('Array 1 = ', a1)\n",
    "print('Array 2 = ', a2)"
   ]
  },
  {
   "cell_type": "markdown",
   "metadata": {},
   "source": [
    "Numpy posee unas funciones universales de la clase array que permiten aplicar funciones matemáticas comunes a los elementos del array.\n",
    "\n",
    "**Funciones con Flotantes**\n",
    "\n",
    "np.fabs(a3): Valor absoluto\n",
    "\n",
    "np.ceil(a3): Redondeo al número más grande\n",
    "\n",
    "np.floor(a3): Redondeo hacia el número mas bajo\n"
   ]
  },
  {
   "cell_type": "code",
   "execution_count": null,
   "metadata": {},
   "outputs": [],
   "source": [
    "#Code\n",
    "print('Array 2 = ', a2)\n",
    "#Obtener valor absoluto\n",
    " "
   ]
  },
  {
   "cell_type": "markdown",
   "metadata": {},
   "source": [
    "Numpy posee unas funciones universales de la clase array que permiten aplicar funciones matemáticas comunes a los elementos del array.\n",
    "\n",
    "**Funciones Aleatorias**\n",
    "\n",
    "np.random.rand(), np.random.rand(4), np.random.rand(4,2): Números aleatórios de decimales para array 1D y 2D\n",
    "\n",
    "np.random.uniform(10, size=[2,2,2]): Números aleatorios para arreglos multidimensionales\n",
    "\n",
    "np.random.randint(10): Números aleatorios entre 0 y N\n"
   ]
  },
  {
   "cell_type": "code",
   "execution_count": null,
   "metadata": {},
   "outputs": [],
   "source": [
    "#Code\n"
   ]
  },
  {
   "cell_type": "markdown",
   "metadata": {},
   "source": [
    "## Filtrado de Arrays\n",
    "\n",
    "FILTROS BOOLEANOS: Son filtros que devuelven el estado de una condición\n",
    "\n",
    "np.all( ): Devuelve verdadero si todos los elementos son verdaderos\n",
    "\n",
    "\n",
    "np.any( ): Devuelve verdadero si al menos un elemento es verdaderos\n"
   ]
  },
  {
   "cell_type": "code",
   "execution_count": 18,
   "metadata": {},
   "outputs": [
    {
     "name": "stdout",
     "output_type": "stream",
     "text": [
      "Array 1 =  [ 1  1  1  1  1 -1  0 -1 -1 -1]\n",
      "Array 2 =  [ True  True  True False]\n"
     ]
    }
   ],
   "source": [
    "## Filtrado de Arrays\n",
    "a1 = np.random.randint(-1, 2, 10)\n",
    "a2 = np.array([True, True, True, False])\n",
    "print('Array 1 = ', a1)\n",
    "print('Array 2 = ', a2)"
   ]
  },
  {
   "cell_type": "code",
   "execution_count": null,
   "metadata": {},
   "outputs": [],
   "source": [
    "np.all()"
   ]
  },
  {
   "cell_type": "code",
   "execution_count": null,
   "metadata": {},
   "outputs": [],
   "source": [
    "np.any()"
   ]
  },
  {
   "cell_type": "markdown",
   "metadata": {},
   "source": [
    "FILTRO WHERE: Filtra un array a partir de una condición y un valor por defecto.\n"
   ]
  },
  {
   "cell_type": "code",
   "execution_count": null,
   "metadata": {},
   "outputs": [],
   "source": [
    "#code\n",
    "a2 = np.random.uniform(0,5, size=[3,3]) #Arreglo multidimensional aleatorio\n",
    "print(a2)\n",
    "a2f = np.where('Condicion', 'si es verdad', 'si es falso')\n",
    "print(a2f)\n"
   ]
  },
  {
   "cell_type": "markdown",
   "metadata": {},
   "source": [
    "FILTRO UNIQUE: Es un filtro empleado dentro de un array para poder encontrar los elementos únicos o simplemente elementos que no son repetidos.\n"
   ]
  },
  {
   "cell_type": "code",
   "execution_count": 19,
   "metadata": {},
   "outputs": [
    {
     "name": "stdout",
     "output_type": "stream",
     "text": [
      "[ 0  1  1  0  0  1  0 -1 -1 -1]\n",
      "[-1  0  1]\n"
     ]
    }
   ],
   "source": [
    "#code\n",
    "a1 = np.random.randint(-1, 2, 10)\n",
    "print(a1)\n",
    "#Filtro Unique\n",
    "a1f = np.unique(a1)\n",
    "print(a1f)\n"
   ]
  },
  {
   "cell_type": "markdown",
   "metadata": {},
   "source": [
    "FILTRO IN1D: Retorna un array de una dimensión indicando si un determinado elemento existe dentro de un array.\n"
   ]
  },
  {
   "cell_type": "markdown",
   "metadata": {},
   "source": [
    "## Módulos de NumPy"
   ]
  },
  {
   "cell_type": "markdown",
   "metadata": {},
   "source": [
    "Algunos módulos de NumPy útiles para ingeniería son:\n",
    "\n",
    "numpy.linag: Contiene todas las funciones para trabajar con álgebra lineal.\n",
    "\n",
    "numpy.fft: Funciones para trabajar con la transformada de Fourier discreta.\n",
    "\n",
    "https://numpy.org/doc/stable/reference/routines.linalg.html \n"
   ]
  },
  {
   "cell_type": "code",
   "execution_count": null,
   "metadata": {},
   "outputs": [],
   "source": []
  }
 ],
 "metadata": {
  "kernelspec": {
   "display_name": "Python 3.10.4 64-bit",
   "language": "python",
   "name": "python3"
  },
  "language_info": {
   "codemirror_mode": {
    "name": "ipython",
    "version": 3
   },
   "file_extension": ".py",
   "mimetype": "text/x-python",
   "name": "python",
   "nbconvert_exporter": "python",
   "pygments_lexer": "ipython3",
   "version": "3.10.4"
  },
  "orig_nbformat": 4,
  "vscode": {
   "interpreter": {
    "hash": "012a3f856154b24f1153bf91a628b97e6f2eb77bb61013846ac8a83fabb585fb"
   }
  }
 },
 "nbformat": 4,
 "nbformat_minor": 2
}
