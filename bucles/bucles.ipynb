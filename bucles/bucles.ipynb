{
 "cells": [
  {
   "cell_type": "markdown",
   "id": "44eb4478",
   "metadata": {},
   "source": [
    "# Loops in Python\n",
    "\n",
    "We will learn about loops in python\n",
    "![For Loop Image](https://www.google.com/url?sa=i&url=https%3A%2F%2Fwww.toppr.com%2Fguides%2Fpython-guide%2Ftutorials%2Fpython-flow-control%2Ffor-loop%2Fpython-for-loop%2F&psig=AOvVaw2Bm9cngKnt64rxnwnKBryW&ust=1692408408657000&source=images&cd=vfe&opi=89978449&ved=0CBAQjRxqFwoTCKDKleCG5YADFQAAAAAdAAAAABAJ)"
   ]
  },
  {
   "cell_type": "code",
   "execution_count": 1,
   "id": "4a4845cf",
   "metadata": {},
   "outputs": [
    {
     "name": "stdout",
     "output_type": "stream",
     "text": [
      "1\n",
      "4\n",
      "9\n",
      "16\n",
      "25\n",
      "36\n",
      "49\n",
      "64\n",
      "81\n",
      "100\n"
     ]
    }
   ],
   "source": [
    "for i in range(1, 11):\n",
    "    print(i ** 2)"
   ]
  },
  {
   "cell_type": "markdown",
   "id": "4322b140",
   "metadata": {},
   "source": [
    "## Example 2 - Measures\n"
   ]
  },
  {
   "cell_type": "code",
   "execution_count": 2,
   "id": "cb19c7dd",
   "metadata": {},
   "outputs": [
    {
     "name": "stdout",
     "output_type": "stream",
     "text": [
      "m \t\t in \t\t ft\n",
      "----------------------------------------\n",
      "1              39.37            3.28\n",
      "2              78.74            6.56\n",
      "3             118.11            9.84\n",
      "4             157.48           13.12\n",
      "5             196.85            16.4\n"
     ]
    }
   ],
   "source": [
    "print('m \\t\\t in \\t\\t ft')\n",
    "print('-'*40)\n",
    "for measure in range(1, 6):\n",
    "    print(f'{measure} {round(measure*39.37, 2) : 18} {measure*3.28 : 15}')"
   ]
  },
  {
   "cell_type": "markdown",
   "id": "d39f8b8a",
   "metadata": {},
   "source": [
    "## Example 3 - Strings"
   ]
  },
  {
   "cell_type": "code",
   "execution_count": 3,
   "id": "0b443584",
   "metadata": {},
   "outputs": [
    {
     "name": "stdout",
     "output_type": "stream",
     "text": [
      "C\n",
      "u\n",
      "r\n",
      "s\n",
      "o\n",
      " \n",
      "d\n",
      "e\n",
      " \n",
      "P\n",
      "y\n",
      "t\n",
      "h\n",
      "o\n",
      "n\n"
     ]
    }
   ],
   "source": [
    "string = 'Curso de Python' \n",
    "for c in range( len(string) ):\n",
    "    print(string[c])"
   ]
  },
  {
   "cell_type": "code",
   "execution_count": 4,
   "id": "47c17d55",
   "metadata": {},
   "outputs": [
    {
     "name": "stdout",
     "output_type": "stream",
     "text": [
      "C\n",
      "u\n",
      "r\n",
      "s\n",
      "o\n",
      " \n",
      "d\n",
      "e\n",
      " \n",
      "P\n",
      "y\n",
      "t\n",
      "h\n",
      "o\n",
      "n\n"
     ]
    }
   ],
   "source": [
    "string = 'Curso de Python' \n",
    "for char in string :\n",
    "    print(char)"
   ]
  },
  {
   "cell_type": "markdown",
   "id": "f62f8d1f",
   "metadata": {},
   "source": [
    "## Example 4 - While loop"
   ]
  },
  {
   "cell_type": "code",
   "execution_count": 8,
   "id": "167db39f",
   "metadata": {},
   "outputs": [
    {
     "name": "stdout",
     "output_type": "stream",
     "text": [
      "1\n",
      "3\n",
      "5\n",
      "7\n",
      "9\n",
      "11\n",
      "While ends\n"
     ]
    }
   ],
   "source": [
    "num = 0\n",
    "# ctrl + c\n",
    "while num <= 10:\n",
    "    #print(num)\n",
    "    #I need vary the condition\n",
    "    #num = num + 1\n",
    "    num += 1\n",
    "    #if num > 5:\n",
    "    #    break\n",
    "    \n",
    "    if num % 2 == 0:\n",
    "        continue\n",
    "    print(num)\n",
    "    \n",
    "print('While ends')"
   ]
  },
  {
   "cell_type": "markdown",
   "id": "91734ef6",
   "metadata": {},
   "source": [
    "## Factorial example"
   ]
  },
  {
   "cell_type": "code",
   "execution_count": 15,
   "id": "70c892da",
   "metadata": {},
   "outputs": [
    {
     "name": "stdout",
     "output_type": "stream",
     "text": [
      "Write a number: 5\n",
      "5! = 5 x 4 x 3 x 2 x 1 = 120\n"
     ]
    }
   ],
   "source": [
    "number = int(input('Write a number: '))\n",
    "factorial = 1\n",
    "print(f'{number}! = ', end='')\n",
    "while number > 0:\n",
    "    if number > 1:\n",
    "        print(f'{number} x ', end='')\n",
    "    else:\n",
    "        print(f'{number} = ', end='')\n",
    "    factorial *=  number\n",
    "    number -=  1\n",
    "\n",
    "print(factorial)      "
   ]
  },
  {
   "cell_type": "markdown",
   "id": "1d349da3",
   "metadata": {},
   "source": [
    "## Recursitviy"
   ]
  },
  {
   "cell_type": "code",
   "execution_count": 16,
   "id": "c664f8e1",
   "metadata": {},
   "outputs": [
    {
     "name": "stdout",
     "output_type": "stream",
     "text": [
      "120\n"
     ]
    }
   ],
   "source": [
    "def factorial(number):\n",
    "    #base\n",
    "    if number == 1 or number == 0:\n",
    "        return 1\n",
    "    return number * factorial(number - 1)\n",
    "\n",
    "print(factorial(5))\n",
    "        "
   ]
  },
  {
   "cell_type": "code",
   "execution_count": null,
   "id": "12a0ee54",
   "metadata": {},
   "outputs": [],
   "source": []
  },
  {
   "cell_type": "code",
   "execution_count": null,
   "id": "2b2e86f4",
   "metadata": {},
   "outputs": [],
   "source": []
  },
  {
   "cell_type": "code",
   "execution_count": null,
   "id": "15975d79",
   "metadata": {},
   "outputs": [],
   "source": []
  }
 ],
 "metadata": {
  "kernelspec": {
   "display_name": "Python 3 (ipykernel)",
   "language": "python",
   "name": "python3"
  },
  "language_info": {
   "codemirror_mode": {
    "name": "ipython",
    "version": 3
   },
   "file_extension": ".py",
   "mimetype": "text/x-python",
   "name": "python",
   "nbconvert_exporter": "python",
   "pygments_lexer": "ipython3",
   "version": "3.9.12"
  }
 },
 "nbformat": 4,
 "nbformat_minor": 5
}
