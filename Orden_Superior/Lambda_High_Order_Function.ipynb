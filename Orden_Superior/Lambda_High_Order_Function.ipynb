{
 "cells": [
  {
   "attachments": {},
   "cell_type": "markdown",
   "id": "05dc2cbc",
   "metadata": {},
   "source": [
    "# Funciones de Anónimas\n",
    "\n",
    "Las funciones anónimas también conocidas como Lambda Functions es una declaración especial de una función en Python que no tiene un identificador (Nombre)\n",
    "\n",
    "## Función Anónima Suma"
   ]
  },
  {
   "cell_type": "code",
   "execution_count": 1,
   "id": "2797c8e1",
   "metadata": {},
   "outputs": [
    {
     "name": "stdout",
     "output_type": "stream",
     "text": [
      "14\n"
     ]
    }
   ],
   "source": [
    "def suma(a, b):\n",
    "    return a + b\n",
    "\n",
    "print( suma(10 , 4) )"
   ]
  },
  {
   "cell_type": "code",
   "execution_count": 2,
   "id": "b14e39bb",
   "metadata": {},
   "outputs": [
    {
     "name": "stdout",
     "output_type": "stream",
     "text": [
      "14\n"
     ]
    }
   ],
   "source": [
    "suma_lambda = lambda a, b : a+b\n",
    "print( suma_lambda(10 , 4) )"
   ]
  },
  {
   "cell_type": "markdown",
   "id": "fc7706d1",
   "metadata": {},
   "source": [
    "## Función Anónima Discriminante"
   ]
  },
  {
   "cell_type": "markdown",
   "id": "0085c726",
   "metadata": {},
   "source": [
    "Crear una función lambda que calcule el discriminante de una ecuación cuadrática\n"
   ]
  },
  {
   "cell_type": "code",
   "execution_count": 5,
   "id": "3ce0be51",
   "metadata": {},
   "outputs": [
    {
     "name": "stdout",
     "output_type": "stream",
     "text": [
      "El discriminante es: 40\n"
     ]
    }
   ],
   "source": [
    "delta = lambda a, b, c : b**2 - 4*a*c\n",
    "print(f'El discriminante es: {delta(1, 8, 6)}')"
   ]
  },
  {
   "attachments": {},
   "cell_type": "markdown",
   "id": "896e0e89",
   "metadata": {},
   "source": [
    "# Funciones de Orden Superior\n",
    "Una función se denomina Función de orden superior si esta contiene otras funciones como parámetros de entrada o si devuelve una función como salida, es decir, las funciones que operan con otra función se conocen como Funciones de orden superior."
   ]
  },
  {
   "cell_type": "code",
   "execution_count": 8,
   "id": "6d2a238b",
   "metadata": {},
   "outputs": [
    {
     "name": "stdout",
     "output_type": "stream",
     "text": [
      "2\n"
     ]
    }
   ],
   "source": [
    "def math_operation(fun, num1, num2):\n",
    "    return fun(num1, num2)\n",
    "\n",
    "def product(num1, num2):\n",
    "    return num1*num2\n",
    "\n",
    "substract = lambda num1, num2 : num1 - num2\n",
    "\n",
    "print( math_operation(substract, 4, 2) )"
   ]
  },
  {
   "cell_type": "markdown",
   "id": "d8638612",
   "metadata": {},
   "source": [
    "## FILTER()\n",
    "*filter(function, iterable)*\n",
    "\n",
    "La función filter() devuelve un iterador donde los elementos se filtran a través de una función para probar si el elemento es aceptado o no.\n",
    "\n",
    "Devuelve un objeto generador, de ahí que usemos la función list() para convertirlo a lista\n",
    "\n",
    "\n",
    "### Ejemplo 1"
   ]
  },
  {
   "cell_type": "code",
   "execution_count": 21,
   "id": "341460ad",
   "metadata": {},
   "outputs": [
    {
     "name": "stdout",
     "output_type": "stream",
     "text": [
      "[37, 18, 84, 48, 53, 67, 76, 99, 36, 49, 23, 67, 2, 2, 69]\n",
      "Los números pares son: [18, 84, 48, 76, 36, 2, 2]\n",
      "Los números pares lambda son: [18, 84, 48, 76, 36, 2, 2]\n"
     ]
    }
   ],
   "source": [
    "from random import randint\n",
    "\n",
    "def iseven(num):\n",
    "    return num % 2 == 0\n",
    "\n",
    "\"\"\"\n",
    "numbers = list()\n",
    "for _ in range(15):\n",
    "    numbers.append(randint(0, 100))\n",
    "\"\"\"\n",
    "#List comprenhension\n",
    "#          operacion        |  Ciclo for\n",
    "numbers = [randint(0, 100)     for _ in range(15)]\n",
    "\n",
    "even = list( filter(iseven, numbers) )\n",
    "even_lamb = list( filter( lambda num: num % 2 == 0, numbers) )\n",
    "\n",
    "print(numbers)\n",
    "print(f'Los números pares son: {even}')\n",
    "print(f'Los números pares lambda son: {even_lamb}')"
   ]
  },
  {
   "cell_type": "markdown",
   "id": "b090c5e8",
   "metadata": {},
   "source": [
    "### Ejemplo 2"
   ]
  },
  {
   "cell_type": "code",
   "execution_count": 23,
   "id": "5e306907",
   "metadata": {},
   "outputs": [
    {
     "name": "stdout",
     "output_type": "stream",
     "text": [
      "La lista: ['aguacate', 'ELEFANTE', 'Programación', 'Electronica', 'Lectura']\n",
      "Las que comienzan con vocal son: ['aguacate', 'ELEFANTE', 'Electronica']\n"
     ]
    }
   ],
   "source": [
    "words = ['aguacate', 'ELEFANTE', \"Programación\", 'Electronica', 'Lectura']\n",
    "vowls = list( filter(lambda word: word[0].lower() in 'aeiou', words) )\n",
    "print(f'La lista: {words}')\n",
    "print(f'Las que comienzan con vocal son: {vowls}')\n"
   ]
  },
  {
   "cell_type": "markdown",
   "id": "cec70b7a",
   "metadata": {},
   "source": [
    "## MAP()\n",
    "*map(function, iterables)*\n",
    "\n",
    "* La función map() ejecuta una función específica para cada elemento en un iterable. El objeto se envía a la función como parámetro.\n",
    "\n",
    "* El primer argumento de la función es la función de mapeo. Los segundos argumentos son uno o varios iterables que se pasan secuencialmente a la función de mapeo.\n",
    "\n",
    "* Devuelve un objeto generador, de ahí que usemos la función list() para convertirlo a lista\n",
    "\n",
    "\n",
    "### Ejemplo 1\n"
   ]
  },
  {
   "cell_type": "code",
   "execution_count": 26,
   "id": "94ea1e09",
   "metadata": {},
   "outputs": [
    {
     "name": "stdout",
     "output_type": "stream",
     "text": [
      "[1, 11, 96, 85, 16, 38, 4, 9, 59, 84, 81, 70, 84, 44, 90]\n",
      "[1, 1331, 884736, 614125, 4096, 54872, 64, 729, 205379, 592704, 531441, 343000, 592704, 85184, 729000]\n"
     ]
    }
   ],
   "source": [
    "from random import randint\n",
    "numbers = [randint(0, 100)     for _ in range(15)]\n",
    "cubed = list( map(lambda num: num**3, numbers) )\n",
    "print(numbers)\n",
    "print(cubed)"
   ]
  },
  {
   "cell_type": "markdown",
   "id": "4632b233",
   "metadata": {},
   "source": [
    "### Ejemplo 2"
   ]
  },
  {
   "cell_type": "code",
   "execution_count": 27,
   "id": "0f6e8814",
   "metadata": {},
   "outputs": [
    {
     "name": "stdout",
     "output_type": "stream",
     "text": [
      "[8, 8, 12, 11, 7]\n"
     ]
    }
   ],
   "source": [
    "words = ['aguacate', 'ELEFANTE', \"Programación\", 'Electronica', 'Lectura']\n",
    "lenght = list( map(len, words) )\n",
    "print(lenght)"
   ]
  },
  {
   "cell_type": "markdown",
   "id": "fd3402a2",
   "metadata": {},
   "source": [
    "## REDUCE()\n",
    "*from functools import reduce*\n",
    "\n",
    "*reduce(function, iterables)*\n",
    "\n",
    "La función reduce()  acepta una función y una secuencia y devuelve un único valor calculado de la siguiente manera:\n",
    "\n",
    "* Inicialmente, se llama a la función con los dos primeros elementos de la secuencia y se devuelve el resultado.\n",
    "\n",
    "* A continuación, se vuelve a llamar a la función con el resultado obtenido en el paso 1 y el siguiente valor de la secuencia. Este proceso se repite hasta que hay elementos en la secuencia.\n",
    "\n",
    "\n",
    "### Ejemplo 1"
   ]
  },
  {
   "cell_type": "code",
   "execution_count": 28,
   "id": "0f4e5397",
   "metadata": {},
   "outputs": [
    {
     "name": "stdout",
     "output_type": "stream",
     "text": [
      "[46, 35, 25, 47, 76, 100, 27, 43, 17, 89, 86, 6, 65, 48, 70]\n",
      "2846104345172612160000000\n"
     ]
    }
   ],
   "source": [
    "from functools import reduce\n",
    "numbers = [randint(0, 100)     for _ in range(15)]\n",
    "productorio = reduce(lambda num1, num2: num1 * num2, numbers)\n",
    "print(numbers)\n",
    "print(productorio)"
   ]
  },
  {
   "cell_type": "markdown",
   "id": "c47d92e8",
   "metadata": {},
   "source": [
    "### Ejemplo 2"
   ]
  },
  {
   "cell_type": "code",
   "execution_count": 30,
   "id": "2ce4043b",
   "metadata": {},
   "outputs": [
    {
     "name": "stdout",
     "output_type": "stream",
     "text": [
      "[96, 73, 60, 8]\n",
      "59.25\n"
     ]
    }
   ],
   "source": [
    "numbers = [randint(0, 100)     for _ in range(4)]\n",
    "mean = reduce(lambda num1, num2: num1+num2 , numbers) / len(numbers)\n",
    "print(numbers)\n",
    "print(mean)"
   ]
  },
  {
   "cell_type": "code",
   "execution_count": null,
   "id": "05909422",
   "metadata": {},
   "outputs": [],
   "source": []
  }
 ],
 "metadata": {
  "kernelspec": {
   "display_name": "Python 3 (ipykernel)",
   "language": "python",
   "name": "python3"
  },
  "language_info": {
   "codemirror_mode": {
    "name": "ipython",
    "version": 3
   },
   "file_extension": ".py",
   "mimetype": "text/x-python",
   "name": "python",
   "nbconvert_exporter": "python",
   "pygments_lexer": "ipython3",
   "version": "3.10.7"
  }
 },
 "nbformat": 4,
 "nbformat_minor": 5
}
