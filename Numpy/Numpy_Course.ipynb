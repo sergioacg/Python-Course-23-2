{
 "cells": [
  {
   "cell_type": "markdown",
   "metadata": {},
   "source": [
    "# Numpy\n"
   ]
  },
  {
   "cell_type": "markdown",
   "metadata": {},
   "source": [
    "NumPy ( Numerical Python ) es una biblioteca Python de código abierto que se utiliza en casi todos los campos de la ciencia y la ingeniería. Es el estándar universal para trabajar con datos numéricos en Python y es el núcleo de los ecosistemas científicos de Python y PyData. \n",
    "\n",
    "Proporciona ndarray (numpy dimenional array), un objeto de matriz n-dimensional homogéneo, con métodos para operar de manera eficiente en él. \n",
    "\n"
   ]
  },
  {
   "cell_type": "markdown",
   "metadata": {},
   "source": [
    "## Instalando Numpy\n",
    "Generalmente cuando trabajamos con Numpy se suele usar con una distribución científica de Python como lo es el Anaconda y su instalación bien sea dentro de dicha distribución científica o no puede hacerse de la siguiente forma:\n",
    "Podemos usar el manejador de paquetes de Python dentro del terminal:\n"
   ]
  },
  {
   "cell_type": "code",
   "execution_count": null,
   "metadata": {},
   "outputs": [],
   "source": [
    "#%pip install numpy\n",
    "#%conda install numpy\n"
   ]
  },
  {
   "cell_type": "markdown",
   "metadata": {},
   "source": [
    "## Importar Numpy"
   ]
  },
  {
   "cell_type": "code",
   "execution_count": 2,
   "metadata": {},
   "outputs": [],
   "source": [
    "import numpy as np"
   ]
  },
  {
   "cell_type": "markdown",
   "metadata": {},
   "source": [
    "## Creando Arrays con Numpy\n",
    "En particular, un array de Numpy pueden ser creados dentro de Python a través de una lista o de una tupla empleando em método .array()\n",
    "\n"
   ]
  },
  {
   "cell_type": "code",
   "execution_count": 2,
   "metadata": {},
   "outputs": [
    {
     "name": "stdout",
     "output_type": "stream",
     "text": [
      "[1 2 3 4]\n",
      "[5 8 9 4]\n",
      "<class 'numpy.ndarray'>\n"
     ]
    }
   ],
   "source": [
    "#Via Lista\n",
    "lista1 = [1, 2, 3, 4]\n",
    "array1 = np.array(lista1)\n",
    "print(array1)\n",
    "\n",
    "#Via tupla\n",
    "array2 = np.array( (5, 8, 9, 4) )\n",
    "print(array2)\n",
    "\n",
    "#tipo ndarray\n",
    "print(type(array1))\n"
   ]
  },
  {
   "cell_type": "markdown",
   "metadata": {},
   "source": [
    "Numpy posee algunos métodos que permiten la creación rápida de arreglos con determinados elementos.\n",
    "\n",
    "* np.zeros(2): Arreglo lleno de ceros\n",
    "* np.ones(2): Arreglo lleno de unos\n",
    "* np.empty(2): crea una matriz cuyo contenido inicial es aleatorio y depende del estado de la memoria. \n",
    "* np.arange(4): crea una matriz con un rango de elementos\n"
   ]
  },
  {
   "cell_type": "code",
   "execution_count": 4,
   "metadata": {},
   "outputs": [
    {
     "name": "stdout",
     "output_type": "stream",
     "text": [
      "Array Zeros [0. 0. 0. 0. 0. 0. 0. 0. 0. 0.]\n",
      "Array Ones [15. 15. 15. 15. 15.]\n",
      "Array Empty [0. 0. 0. 0. 0. 0.]\n",
      "Array Range [0 1 2 3 4]\n"
     ]
    }
   ],
   "source": [
    "#try here\n",
    "azeros = np.zeros(10)\n",
    "print('Array Zeros', azeros)\n",
    "\n",
    "aones = np.ones(5) * 15\n",
    "print('Array Ones', aones)\n",
    "\n",
    "aempty = np.empty(6)\n",
    "print('Array Empty', aempty)\n",
    "\n",
    "aran = np.arange(5)\n",
    "print('Array Range', aran)\n"
   ]
  },
  {
   "cell_type": "markdown",
   "metadata": {},
   "source": [
    "Arreglo con un rango de intervalos espaciados uniformemente. Para hacer esto se debe colocar el primer número , el último número y el tamaño del paso .\n",
    "* np.arange(2, 9, 2)\n"
   ]
  },
  {
   "cell_type": "code",
   "execution_count": 5,
   "metadata": {},
   "outputs": [
    {
     "name": "stdout",
     "output_type": "stream",
     "text": [
      "[15 18 21 24 27 30 33 36 39]\n"
     ]
    }
   ],
   "source": [
    "#code\n",
    "aran = np.arange(15, 40, 3)\n",
    "print(aran)"
   ]
  },
  {
   "cell_type": "markdown",
   "metadata": {},
   "source": [
    "para crear una matriz con valores que están espaciados linealmente en un intervalo específico:\n",
    "* np.linspace(0, 10, num=5)\n"
   ]
  },
  {
   "cell_type": "code",
   "execution_count": 8,
   "metadata": {},
   "outputs": [
    {
     "name": "stdout",
     "output_type": "stream",
     "text": [
      "[ 0.          3.33333333  6.66666667 10.        ]\n"
     ]
    }
   ],
   "source": [
    "#code\n",
    "alin = np.linspace(0, 10, num=4)\n",
    "print(alin)"
   ]
  },
  {
   "cell_type": "markdown",
   "metadata": {},
   "source": [
    "## Dimensionalidad de los Arrays\n",
    "Numpy tiene varios métodos que nos permiten determinar la forma y el tamaño de un arreglo o una matriz.\n",
    "\n",
    "* *ndarray.ndim* muestra el número de ejes, o dimensiones, de la matriz.\n",
    "* *ndarray.size* muestra el número total de elementos de la matriz. Este es el producto de los elementos de la forma de la matriz.\n",
    "* *ndarray.shape* mostrará una tupla de enteros que indican el número de elementos almacenados a lo largo de cada dimensión de la matriz. Si, por ejemplo, tiene una matriz 2-D con 2 filas y 3 columnas, la forma de su matriz es (2, 3)\n"
   ]
  },
  {
   "cell_type": "code",
   "execution_count": 12,
   "metadata": {},
   "outputs": [
    {
     "data": {
      "text/plain": [
       "array([0., 0., 0., 0., 0., 0.])"
      ]
     },
     "execution_count": 12,
     "metadata": {},
     "output_type": "execute_result"
    }
   ],
   "source": [
    "aempty"
   ]
  },
  {
   "cell_type": "code",
   "execution_count": 9,
   "metadata": {},
   "outputs": [
    {
     "name": "stdout",
     "output_type": "stream",
     "text": [
      "Dimension 1\n",
      "Size 5\n",
      "Shape (6,)\n"
     ]
    }
   ],
   "source": [
    "#code\n",
    "print('Dimension', array1.ndim)\n",
    "print('Size', aones.size)\n",
    "print('Shape', aempty.shape)\n"
   ]
  },
  {
   "cell_type": "markdown",
   "metadata": {},
   "source": [
    "En este contexto, note que con Numpy podemos crear múltiples dimensiones (profundidad) de arreglos respetando siempre que cada una de las dimensiones los arreglos estén conformados por el mismo número de elementos.\n",
    "\n",
    "* **Arreglo 0-dimensional:** Pueden ser considerados como una constante o escalar.\n"
   ]
  },
  {
   "cell_type": "code",
   "execution_count": 13,
   "metadata": {},
   "outputs": [
    {
     "name": "stdout",
     "output_type": "stream",
     "text": [
      "Array 0-dimensional:  0\n"
     ]
    }
   ],
   "source": [
    "#code\n",
    "a0 = np.array(15)\n",
    "print('Array 0-dimensional: ', a0.ndim)\n"
   ]
  },
  {
   "cell_type": "markdown",
   "metadata": {},
   "source": [
    "**Arreglo 1-dimensional:** Arreglos con un único nivel de profundidad.\n"
   ]
  },
  {
   "cell_type": "code",
   "execution_count": 14,
   "metadata": {},
   "outputs": [
    {
     "name": "stdout",
     "output_type": "stream",
     "text": [
      "[1 2 5]\n",
      "Array 1-dimensional:  1\n"
     ]
    }
   ],
   "source": [
    "#code\n",
    "a1 = np.array([1,2,5])\n",
    "print(a1)\n",
    "print('Array 1-dimensional: ', a1.ndim)"
   ]
  },
  {
   "cell_type": "markdown",
   "metadata": {},
   "source": [
    "**Arreglo 2-dimensional:** Arreglos que contienen otros arreglos unidimensionales. Cada dimension debe respetar el la cantidad de elementos para evitar tener un error\n"
   ]
  },
  {
   "cell_type": "code",
   "execution_count": 17,
   "metadata": {},
   "outputs": [
    {
     "name": "stdout",
     "output_type": "stream",
     "text": [
      "[[1 2]\n",
      " [3 4]]\n",
      "Array 2-dimensional:  2\n",
      "[[1 2 8]\n",
      " [3 4 6]]\n",
      "Array Shape Wrong:  (2, 3)\n"
     ]
    }
   ],
   "source": [
    "#code\n",
    "a2 = np.array( [ [1, 2], [3, 4] ] )\n",
    "print(a2)\n",
    "print('Array 2-dimensional: ', a2.ndim)\n",
    "\n",
    "a2wrong = np.array( [ [1, 2, 8], [3, 4, 6] ] )\n",
    "print(a2wrong)\n",
    "print('Array Shape Wrong: ', a2wrong.shape)"
   ]
  },
  {
   "cell_type": "markdown",
   "metadata": {},
   "source": []
  },
  {
   "cell_type": "markdown",
   "metadata": {},
   "source": [
    "**Arreglo 3-dimensional:** Arreglos que contienen otros arreglos bidimensionales. Importante respetar el Shape\n"
   ]
  },
  {
   "cell_type": "code",
   "execution_count": 19,
   "metadata": {},
   "outputs": [
    {
     "name": "stdout",
     "output_type": "stream",
     "text": [
      "[[[1 2]\n",
      "  [3 4]]\n",
      "\n",
      " [[1 2]\n",
      "  [3 4]]]\n",
      "Array 3-dimensional:  3\n",
      "Array Shape:  (2, 2, 2)\n"
     ]
    }
   ],
   "source": [
    "#code\n",
    "a3 = np.array( [ [ [1, 2], [3, 4] ], [ [1, 2], [3, 4] ] ] )\n",
    "print(a3)\n",
    "print('Array 3-dimensional: ', a3.ndim)\n",
    "print('Array Shape: ', a3.shape)"
   ]
  },
  {
   "cell_type": "markdown",
   "metadata": {},
   "source": [
    "**Arreglo multi-dimensional:** Arreglos que contienen un número finito de dimensiones.\n"
   ]
  },
  {
   "cell_type": "code",
   "execution_count": 21,
   "metadata": {},
   "outputs": [
    {
     "name": "stdout",
     "output_type": "stream",
     "text": [
      "[[[[[[[[[[1 5 4]]]]]]]]]]\n",
      "Array multi-dimensional:  10\n",
      "Array Shape:  (1, 1, 1, 1, 1, 1, 1, 1, 1, 3)\n"
     ]
    }
   ],
   "source": [
    "am = np.array( [1, 5, 4], ndmin=10 )\n",
    "print(am)\n",
    "print('Array multi-dimensional: ', am.ndim)\n",
    "print('Array Shape: ', am.shape)\n"
   ]
  },
  {
   "cell_type": "markdown",
   "metadata": {},
   "source": [
    "## Remodelar un Arreglo\n",
    "El uso del método arr.reshape() permite darle una nueva forma a una matriz sin cambiar los datos. \n",
    "\n",
    "Se debe respetar que la matriz que se desea producir debe tener la misma cantidad de elementos que la matriz original. Si comienza con una matriz con 12 elementos, deberá asegurarse de que su nueva matriz también tenga un total de 12 elementos.\n"
   ]
  },
  {
   "cell_type": "code",
   "execution_count": 27,
   "metadata": {},
   "outputs": [
    {
     "name": "stdout",
     "output_type": "stream",
     "text": [
      "Arreglo Inicial: \n",
      " [0 1 2 3 4 5]\n",
      "Arreglo Remodelado: \n",
      " [[0 1]\n",
      " [2 3]\n",
      " [4 5]]\n",
      "Arreglo Remodelado en Más Dimensiones: \n",
      " [[[0 1]]\n",
      "\n",
      " [[2 3]]\n",
      "\n",
      " [[4 5]]]\n"
     ]
    }
   ],
   "source": [
    "#code\n",
    "a = np.arange(6)\n",
    "print('Arreglo Inicial: \\n', a)\n",
    "b = a.reshape(3, 2)\n",
    "print('Arreglo Remodelado: \\n', b)\n",
    "c = a.reshape(3, 1, 2)\n",
    "print('Arreglo Remodelado en Más Dimensiones: \\n', c)\n"
   ]
  },
  {
   "cell_type": "markdown",
   "metadata": {},
   "source": [
    "## Elementos de un Array\n",
    "Veremos a continuación como acceder a los datos de los arreglos creados con Numpy:\n",
    "\n",
    "**Arreglo Unidimensional:** Básicamente es igual que las listas, se accede a través de corchetes especificando el índice que se desea.\n"
   ]
  },
  {
   "cell_type": "code",
   "execution_count": null,
   "metadata": {},
   "outputs": [],
   "source": [
    "#Code\n",
    "array1 = np.array([1, 2, 3, 4])\n",
    "print(array1)\n",
    "print()\n",
    "print()\n"
   ]
  },
  {
   "cell_type": "markdown",
   "metadata": {},
   "source": [
    "**Arreglo Multidimensional:** Se tiene que especificar el índice del elemento ubicado en la dimensión **menos profunda** hasta llegar al índice del elemento indicado que se encuentra en la dimensión **más profunda** todos dentro de un corchete separados por comas.\n"
   ]
  },
  {
   "cell_type": "code",
   "execution_count": null,
   "metadata": {},
   "outputs": [],
   "source": [
    "a2 = np.array( [ [1, 2], [3, 4] ] )\n",
    "print(a2)\n",
    "print('(0, 1): ', )\n",
    "print('(1, 0): ', )\n"
   ]
  },
  {
   "cell_type": "code",
   "execution_count": null,
   "metadata": {},
   "outputs": [],
   "source": [
    "#Code Tridimensional\n",
    "a3 = np.array([ [ [1, 2, 3], [4, 5, 6] ], [ [7, 8, 9], [-1, -2, -3] ] ])\n",
    "print(a3)\n",
    "print('escalar 1: ', )\n",
    "print('escalar 2: ', )\n",
    "print('escalar 3: ', )\n",
    "print('intercalado: ', )\n",
    "print('vector: \\n', )\n",
    "print('matriz: \\n', )"
   ]
  },
  {
   "cell_type": "markdown",
   "metadata": {},
   "source": [
    "También es posible extraer de los arrays aquellos elementos que satisfagan una determinada condición lógica. Por ejemplo:\n"
   ]
  },
  {
   "cell_type": "code",
   "execution_count": 29,
   "metadata": {},
   "outputs": [
    {
     "name": "stdout",
     "output_type": "stream",
     "text": [
      "Arreglo: \n",
      " [[ 1  2  3  4]\n",
      " [ 5  6  7  8]\n",
      " [ 9 10 11 12]]\n",
      "a < 6 =  [1 2 3 4 5]\n"
     ]
    }
   ],
   "source": [
    "a = np.array([[1 , 2, 3, 4], [5, 6, 7, 8], [9, 10, 11, 12]])\n",
    "print('Arreglo: \\n', a)\n",
    "print('a < 6 = ', a[ a < 6 ])"
   ]
  },
  {
   "cell_type": "markdown",
   "metadata": {},
   "source": [
    "También podemos indexar un nuevo array con estos condicionales"
   ]
  },
  {
   "cell_type": "code",
   "execution_count": null,
   "metadata": {},
   "outputs": [],
   "source": [
    "b = 0\n",
    "print('Nuevo arreglo con a >= 5: \\n', b)"
   ]
  },
  {
   "cell_type": "markdown",
   "metadata": {},
   "source": [
    "También se puede aplicar alguna determinada operación para la creación de un nuevo array.\n"
   ]
  },
  {
   "cell_type": "code",
   "execution_count": 30,
   "metadata": {},
   "outputs": [
    {
     "name": "stdout",
     "output_type": "stream",
     "text": [
      "Nuevo arreglo par: \n",
      " [ 2  4  6  8 10 12]\n"
     ]
    }
   ],
   "source": [
    "c = a[ a%2 == 0 ]\n",
    "print('Nuevo arreglo par: \\n', c)"
   ]
  },
  {
   "cell_type": "markdown",
   "metadata": {},
   "source": [
    "También puede hacer uso de los operadores lógicos & y | para devolver valores booleanos que especifican si los valores en una matriz cumplen o no una determinada condición. Esto puede ser útil con arreglos que contienen nombres u otros valores categóricos.\n"
   ]
  },
  {
   "cell_type": "code",
   "execution_count": 31,
   "metadata": {},
   "outputs": [
    {
     "name": "stdout",
     "output_type": "stream",
     "text": [
      "Arreglo Booleano que Cumple la Condición: \n",
      " [[False False False False]\n",
      " [ True  True  True  True]\n",
      " [ True  True  True  True]]\n"
     ]
    }
   ],
   "source": [
    "b = ( a > 5) | (a == 5)\n",
    "print('Arreglo Booleano que Cumple la Condición: \\n', b)\n"
   ]
  },
  {
   "cell_type": "code",
   "execution_count": 32,
   "metadata": {},
   "outputs": [
    {
     "name": "stdout",
     "output_type": "stream",
     "text": [
      "[ 5  6  7  8  9 10 11 12]\n"
     ]
    }
   ],
   "source": [
    "c = a[b]\n",
    "print(c)"
   ]
  },
  {
   "cell_type": "markdown",
   "metadata": {},
   "source": [
    "## Operaciones Básicas\n",
    "La clase array permite realizar varias operaciones matemáticas de forma muy sencilla, sin embargo esta biblioteca generalmente es empleada para operar con matrices por lo que realizar operaciones de suma y resta implica que los arrays creados tengan la misma forma.\n"
   ]
  },
  {
   "cell_type": "code",
   "execution_count": 34,
   "metadata": {},
   "outputs": [
    {
     "data": {
      "text/plain": [
       "array([ 7,  9, 11, 13, 15])"
      ]
     },
     "execution_count": 34,
     "metadata": {},
     "output_type": "execute_result"
    }
   ],
   "source": [
    "a1 = np.array([1, 2, 3, 4, 5])\n",
    "a2 = np.array([6, 7, 8, 9, 10])\n",
    "#Suma\n",
    "a1 + a2"
   ]
  },
  {
   "cell_type": "code",
   "execution_count": 35,
   "metadata": {},
   "outputs": [
    {
     "data": {
      "text/plain": [
       "array([-5, -5, -5, -5, -5])"
      ]
     },
     "execution_count": 35,
     "metadata": {},
     "output_type": "execute_result"
    }
   ],
   "source": [
    "#resta\n",
    "a1-a2"
   ]
  },
  {
   "cell_type": "markdown",
   "metadata": {},
   "source": [
    "El producto, la división y la potencia necesitan que el número de columnas del primer array coincida con el número de filas del segundo array.\n"
   ]
  },
  {
   "cell_type": "code",
   "execution_count": 36,
   "metadata": {},
   "outputs": [
    {
     "data": {
      "text/plain": [
       "array([ 6, 14, 24, 36, 50])"
      ]
     },
     "execution_count": 36,
     "metadata": {},
     "output_type": "execute_result"
    }
   ],
   "source": [
    "#Multiplicación\n",
    "a1 * a2\n",
    "\n"
   ]
  },
  {
   "cell_type": "code",
   "execution_count": 37,
   "metadata": {},
   "outputs": [
    {
     "data": {
      "text/plain": [
       "array([0.16666667, 0.28571429, 0.375     , 0.44444444, 0.5       ])"
      ]
     },
     "execution_count": 37,
     "metadata": {},
     "output_type": "execute_result"
    }
   ],
   "source": [
    "#División\n",
    "a1 / a2\n"
   ]
  },
  {
   "cell_type": "code",
   "execution_count": 38,
   "metadata": {},
   "outputs": [
    {
     "data": {
      "text/plain": [
       "array([      1,     128,    6561,  262144, 9765625])"
      ]
     },
     "execution_count": 38,
     "metadata": {},
     "output_type": "execute_result"
    }
   ],
   "source": [
    "#Potencia\n",
    "a1 ** a2\n"
   ]
  },
  {
   "cell_type": "markdown",
   "metadata": {},
   "source": [
    "## Tipos de Datos\n",
    "\n",
    "En Numpy encontramos tipos de datos adicionales\n",
    "* i: integer\n",
    "* u: unsigned integer\n",
    "* f: float\n",
    "* c: complex float\n",
    "* b: boolean\n",
    "* m: timedelta (valores de tiempo)\n",
    "* M: datetime (fecha y hora)\n",
    "* O: object \n",
    "* S: string\n",
    "* U: unicode string\n",
    "* V: void\n"
   ]
  },
  {
   "cell_type": "code",
   "execution_count": 40,
   "metadata": {},
   "outputs": [
    {
     "name": "stdout",
     "output_type": "stream",
     "text": [
      "[1 2 3 4 5]\n"
     ]
    },
    {
     "data": {
      "text/plain": [
       "dtype('int32')"
      ]
     },
     "execution_count": 40,
     "metadata": {},
     "output_type": "execute_result"
    }
   ],
   "source": [
    "a = np.array([1, 2, 3, 4, 5])\n",
    "print(a)\n",
    "a.dtype\n",
    "\n"
   ]
  },
  {
   "cell_type": "code",
   "execution_count": 43,
   "metadata": {},
   "outputs": [
    {
     "data": {
      "text/plain": [
       "dtype('float64')"
      ]
     },
     "execution_count": 43,
     "metadata": {},
     "output_type": "execute_result"
    }
   ],
   "source": [
    "b = np.array([True, False, 8.0])\n",
    "b.dtype"
   ]
  },
  {
   "cell_type": "markdown",
   "metadata": {},
   "source": [
    "## Clonado de Arrays\n",
    "Al igual que con las listas, para compiar un arrego debemos emplear el método .copy() porque de lo contrario estaremos cayendo en los errores de codificación conocidos como los Side Effects.\n",
    "Los se encuentran referenciados en la memoria por lo tanto cuando trabajamos con subarrays todos los cambios que hagamos se verán reflejados en el array original. \n"
   ]
  },
  {
   "cell_type": "code",
   "execution_count": 49,
   "metadata": {},
   "outputs": [
    {
     "name": "stdout",
     "output_type": "stream",
     "text": [
      "[10 20 30 40 50 60 70]\n"
     ]
    }
   ],
   "source": [
    "a3 = np.arange(10, 80, 10)\n",
    "print(a3)"
   ]
  },
  {
   "cell_type": "code",
   "execution_count": 50,
   "metadata": {},
   "outputs": [
    {
     "data": {
      "text/plain": [
       "array([10, 20, 30, 40, 50])"
      ]
     },
     "execution_count": 50,
     "metadata": {},
     "output_type": "execute_result"
    }
   ],
   "source": [
    "sub_a3 = a3[:5].copy()\n",
    "sub_a3"
   ]
  },
  {
   "cell_type": "code",
   "execution_count": 51,
   "metadata": {},
   "outputs": [
    {
     "data": {
      "text/plain": [
       "array([ 20,  40,  60,  80, 100])"
      ]
     },
     "execution_count": 51,
     "metadata": {},
     "output_type": "execute_result"
    }
   ],
   "source": [
    "sub_a3 *= 2\n",
    "sub_a3"
   ]
  },
  {
   "cell_type": "code",
   "execution_count": 52,
   "metadata": {},
   "outputs": [
    {
     "name": "stdout",
     "output_type": "stream",
     "text": [
      "[10 20 30 40 50 60 70]\n"
     ]
    }
   ],
   "source": [
    "print(a3)"
   ]
  },
  {
   "cell_type": "markdown",
   "metadata": {},
   "source": [
    "Al igual que con las listas, para copiar un arreglo debemos emplear el método .copy() porque de lo contrario estaremos cayendo en los errores de codificación conocidos como los Side Effects"
   ]
  },
  {
   "cell_type": "code",
   "execution_count": 54,
   "metadata": {},
   "outputs": [
    {
     "name": "stdout",
     "output_type": "stream",
     "text": [
      "1466889076624\n",
      "1466889406192\n"
     ]
    }
   ],
   "source": [
    "a = np.arange(6)\n",
    "c = a.copy()\n",
    "print(id(a))\n",
    "print(id(c))\n"
   ]
  },
  {
   "cell_type": "markdown",
   "metadata": {},
   "source": [
    "## Recorriendo Arreglos\n",
    "Al igual que las listas la mejor forma para recorrer un arreglo es empleando el ciclo FOR.\n"
   ]
  },
  {
   "cell_type": "code",
   "execution_count": 5,
   "metadata": {},
   "outputs": [
    {
     "name": "stdout",
     "output_type": "stream",
     "text": [
      "1.5\n",
      "b\n",
      "True\n",
      "4\n"
     ]
    }
   ],
   "source": [
    "# array 1D\n",
    "d1 = np.array([1.5, 'b', True, 4])\n",
    "for i in d1:\n",
    "    print(i)\n"
   ]
  },
  {
   "cell_type": "code",
   "execution_count": 10,
   "metadata": {},
   "outputs": [
    {
     "name": "stdout",
     "output_type": "stream",
     "text": [
      "['1.5' 'b' 'True' '4']\n",
      "['0' '1' '2' '3']\n"
     ]
    }
   ],
   "source": [
    "# array 2D\n",
    "d2 = np.array([[1.5, 'b', True, 4], range(4)])\n",
    "#print(d2)\n",
    "for i in d2:\n",
    "    print(i)\n"
   ]
  },
  {
   "cell_type": "code",
   "execution_count": 11,
   "metadata": {},
   "outputs": [
    {
     "name": "stdout",
     "output_type": "stream",
     "text": [
      "1.5\n",
      "b\n",
      "True\n",
      "4\n",
      "0\n",
      "1\n",
      "2\n",
      "3\n"
     ]
    }
   ],
   "source": [
    "for d1 in d2:\n",
    "    for i in d1:\n",
    "        print(i)"
   ]
  },
  {
   "cell_type": "code",
   "execution_count": null,
   "metadata": {},
   "outputs": [],
   "source": [
    "# array 3D\n",
    "d2 = np.array([[1.5, 'b', True, 4], range(4)])\n"
   ]
  },
  {
   "cell_type": "markdown",
   "metadata": {},
   "source": [
    "Al igual que las listas la mejor forma para recorrer un arreglo es empleando el ciclo FOR.\n"
   ]
  },
  {
   "cell_type": "code",
   "execution_count": 13,
   "metadata": {},
   "outputs": [
    {
     "name": "stdout",
     "output_type": "stream",
     "text": [
      "[[0 1 2]\n",
      " [3 4 5]\n",
      " [6 7 8]]\n"
     ]
    }
   ],
   "source": [
    "d3 = np.array([[range(3),range(3,6),range(6,9)]])\n",
    "for d2 in d3:\n",
    "    print(d2)\n"
   ]
  },
  {
   "cell_type": "code",
   "execution_count": 14,
   "metadata": {},
   "outputs": [
    {
     "name": "stdout",
     "output_type": "stream",
     "text": [
      "[0 1 2]\n",
      "[3 4 5]\n",
      "[6 7 8]\n"
     ]
    }
   ],
   "source": [
    "d3 = np.array([[range(3),range(3,6),range(6,9)]])\n",
    "for d2 in d3:\n",
    "    for d1 in d2:\n",
    "        print(d1)\n"
   ]
  },
  {
   "cell_type": "code",
   "execution_count": 15,
   "metadata": {},
   "outputs": [
    {
     "name": "stdout",
     "output_type": "stream",
     "text": [
      "0\n",
      "1\n",
      "2\n",
      "3\n",
      "4\n",
      "5\n",
      "6\n",
      "7\n",
      "8\n"
     ]
    }
   ],
   "source": [
    "d3 = np.array([[range(3),range(3,6),range(6,9)]])\n",
    "for d2 in d3:\n",
    "    for d1 in d2:\n",
    "        for i in d1:\n",
    "            print(i)\n"
   ]
  },
  {
   "cell_type": "markdown",
   "metadata": {},
   "source": [
    "Se puede hacer un reshape de un arreglo multidimensional a un arreglo unidimensional, sin embargo esto es solo recomendable si el arreglo NO posee una dimensión elevada.\n"
   ]
  },
  {
   "cell_type": "code",
   "execution_count": 16,
   "metadata": {},
   "outputs": [
    {
     "name": "stdout",
     "output_type": "stream",
     "text": [
      "[[[0 1 2]\n",
      "  [3 4 5]\n",
      "  [6 7 8]]]\n"
     ]
    }
   ],
   "source": [
    "# Array 3D\n",
    "print(d3)\n"
   ]
  },
  {
   "cell_type": "code",
   "execution_count": 17,
   "metadata": {},
   "outputs": [
    {
     "name": "stdout",
     "output_type": "stream",
     "text": [
      "0\n",
      "1\n",
      "2\n",
      "3\n",
      "4\n",
      "5\n",
      "6\n",
      "7\n",
      "8\n"
     ]
    }
   ],
   "source": [
    "for i in d3.reshape(-1):\n",
    "    print(i)"
   ]
  },
  {
   "cell_type": "markdown",
   "metadata": {},
   "source": [
    "Una manera más eficiente de hacer esto es emplear el método .nditer() que crea un iterable el cual permite imprimir todos los elementos de los arrays 1D\n"
   ]
  },
  {
   "cell_type": "code",
   "execution_count": 18,
   "metadata": {},
   "outputs": [
    {
     "name": "stdout",
     "output_type": "stream",
     "text": [
      "0\n",
      "1\n",
      "2\n",
      "3\n",
      "4\n",
      "5\n",
      "6\n",
      "7\n",
      "8\n"
     ]
    }
   ],
   "source": [
    "#code\n",
    "for i in np.nditer(d3):\n",
    "    print(i)\n"
   ]
  },
  {
   "cell_type": "markdown",
   "metadata": {},
   "source": [
    "## Concatenar Arrays\n",
    "La forma de concatenar dos o más arrays es empleando el método .concatenate()\n"
   ]
  },
  {
   "cell_type": "code",
   "execution_count": 19,
   "metadata": {},
   "outputs": [
    {
     "name": "stdout",
     "output_type": "stream",
     "text": [
      "[ 1  2  3  4  5  6  7  8  9 10]\n"
     ]
    }
   ],
   "source": [
    "#code\n",
    "a1 = np.array([1, 2, 3, 4, 5])\n",
    "a2 = np.array([6, 7, 8, 9, 10])\n",
    "a3 = np.concatenate( (a1, a2) )\n",
    "print(a3)\n"
   ]
  },
  {
   "cell_type": "markdown",
   "metadata": {},
   "source": [
    "Para el caso bidimensional puedo seleccionar si desea hacer la concatenación de forma vertical o horizontal colocando el atributo axis\n"
   ]
  },
  {
   "cell_type": "code",
   "execution_count": 20,
   "metadata": {},
   "outputs": [
    {
     "name": "stdout",
     "output_type": "stream",
     "text": [
      "b1 =  [[-3.  -2.5]\n",
      " [-2.  -1.5]\n",
      " [-1.  -0.5]]\n",
      "b2 =  [[0.5 1. ]\n",
      " [1.5 2. ]\n",
      " [2.5 3. ]]\n"
     ]
    }
   ],
   "source": [
    "b1 = np.array([[-3, -2.5], [-2, -1.5], [-1, -0.5]])\n",
    "b2 = np.array([[0.5, 1], [1.5, 2], [2.5, 3]])\n",
    "print('b1 = ', b1)\n",
    "print('b2 = ', b2)"
   ]
  },
  {
   "cell_type": "code",
   "execution_count": 21,
   "metadata": {},
   "outputs": [
    {
     "name": "stdout",
     "output_type": "stream",
     "text": [
      "b3 =  [[-3.  -2.5]\n",
      " [-2.  -1.5]\n",
      " [-1.  -0.5]\n",
      " [ 0.5  1. ]\n",
      " [ 1.5  2. ]\n",
      " [ 2.5  3. ]]\n"
     ]
    }
   ],
   "source": [
    "#axis0 (Concatenación Vertical)\n",
    "b3 = np.concatenate( (b1, b2), axis = 0 )\n",
    "print('b3 = ', b3)\n"
   ]
  },
  {
   "cell_type": "code",
   "execution_count": 22,
   "metadata": {},
   "outputs": [
    {
     "name": "stdout",
     "output_type": "stream",
     "text": [
      "b4 =  [[-3.  -2.5  0.5  1. ]\n",
      " [-2.  -1.5  1.5  2. ]\n",
      " [-1.  -0.5  2.5  3. ]]\n"
     ]
    }
   ],
   "source": [
    "#axis1 (Concatenación Horizontal)\n",
    "b4 = np.concatenate( (b1, b2), axis = 1 )\n",
    "print('b4 = ', b4)\n"
   ]
  },
  {
   "cell_type": "code",
   "execution_count": 23,
   "metadata": {},
   "outputs": [
    {
     "name": "stdout",
     "output_type": "stream",
     "text": [
      "c1 = \n",
      " [[[-10  -9]\n",
      "  [ -8  -7]\n",
      "  [ -6  -5]]\n",
      "\n",
      " [[ -4  -3]\n",
      "  [ -2  -1]\n",
      "  [  0   0]]]\n",
      "c2 = \n",
      " [[[ 0  0]\n",
      "  [ 1  2]\n",
      "  [ 3  4]]\n",
      "\n",
      " [[ 5  6]\n",
      "  [ 7  8]\n",
      "  [ 9 10]]]\n"
     ]
    }
   ],
   "source": [
    "#Arrays para Concatenar\n",
    "c1 = np.array([[[-10, -9], [-8, -7], [-6, -5]], [[-4, -3], [-2, -1], [0, 0]]])\n",
    "c2 = np.array([[[0, 0], [1, 2], [3, 4]], [[5, 6], [7, 8], [9, 10]]])\n",
    "print('c1 = \\n', c1)\n",
    "print('c2 = \\n', c2)\n"
   ]
  },
  {
   "cell_type": "markdown",
   "metadata": {},
   "source": [
    "Concatenar en la primera dimensión (Concatena los dos arrays bidimensionales)\n"
   ]
  },
  {
   "cell_type": "code",
   "execution_count": 24,
   "metadata": {},
   "outputs": [
    {
     "name": "stdout",
     "output_type": "stream",
     "text": [
      "c3 = \n",
      " [[[-10  -9]\n",
      "  [ -8  -7]\n",
      "  [ -6  -5]]\n",
      "\n",
      " [[ -4  -3]\n",
      "  [ -2  -1]\n",
      "  [  0   0]]\n",
      "\n",
      " [[  0   0]\n",
      "  [  1   2]\n",
      "  [  3   4]]\n",
      "\n",
      " [[  5   6]\n",
      "  [  7   8]\n",
      "  [  9  10]]]\n"
     ]
    }
   ],
   "source": [
    "c3 = np.concatenate((c1, c2), axis = 0)\n",
    "print('c3 = \\n', c3)"
   ]
  },
  {
   "cell_type": "markdown",
   "metadata": {},
   "source": [
    "Concatenar en la segunda dimensión (Concatena los dos arrays unidimensionales en vertical)\n"
   ]
  },
  {
   "cell_type": "code",
   "execution_count": 25,
   "metadata": {},
   "outputs": [
    {
     "name": "stdout",
     "output_type": "stream",
     "text": [
      "c3 = \n",
      " [[[-10  -9]\n",
      "  [ -8  -7]\n",
      "  [ -6  -5]\n",
      "  [  0   0]\n",
      "  [  1   2]\n",
      "  [  3   4]]\n",
      "\n",
      " [[ -4  -3]\n",
      "  [ -2  -1]\n",
      "  [  0   0]\n",
      "  [  5   6]\n",
      "  [  7   8]\n",
      "  [  9  10]]]\n"
     ]
    }
   ],
   "source": [
    "c3 = np.concatenate((c1, c2), axis = 1)\n",
    "print('c3 = \\n', c3)"
   ]
  },
  {
   "cell_type": "markdown",
   "metadata": {},
   "source": [
    "Concatenar en la segunda dimensión (Concatena los dos arrays unidimensionales en horizontal)\n"
   ]
  },
  {
   "cell_type": "code",
   "execution_count": 26,
   "metadata": {},
   "outputs": [
    {
     "name": "stdout",
     "output_type": "stream",
     "text": [
      "c3 = \n",
      " [[[-10  -9   0   0]\n",
      "  [ -8  -7   1   2]\n",
      "  [ -6  -5   3   4]]\n",
      "\n",
      " [[ -4  -3   5   6]\n",
      "  [ -2  -1   7   8]\n",
      "  [  0   0   9  10]]]\n"
     ]
    }
   ],
   "source": [
    "c3 = np.concatenate((c1, c2), axis = 2)\n",
    "print('c3 = \\n', c3)"
   ]
  },
  {
   "cell_type": "markdown",
   "metadata": {},
   "source": [
    "Otra forma de concatenar arreglos es empleando el método .stack() (apilar) con la diferencia que esta concatenación se hace sobre un eje nuevo.\n"
   ]
  },
  {
   "cell_type": "code",
   "execution_count": 27,
   "metadata": {},
   "outputs": [
    {
     "name": "stdout",
     "output_type": "stream",
     "text": [
      "a1 = \n",
      " [1 2 3]\n",
      "a2 = \n",
      " [7 8 9]\n"
     ]
    }
   ],
   "source": [
    "a1 = np.array([1, 2, 3])\n",
    "a2 = np.array([7, 8, 9])\n",
    "print('a1 = \\n', a1)\n",
    "print('a2 = \\n', a2)"
   ]
  },
  {
   "cell_type": "code",
   "execution_count": 28,
   "metadata": {},
   "outputs": [
    {
     "name": "stdout",
     "output_type": "stream",
     "text": [
      "[[1 2 3]\n",
      " [7 8 9]]\n"
     ]
    }
   ],
   "source": [
    "#axis0\n",
    "a = np.stack( (a1, a2), axis=0 )\n",
    "print(a)\n"
   ]
  },
  {
   "cell_type": "code",
   "execution_count": 29,
   "metadata": {},
   "outputs": [
    {
     "name": "stdout",
     "output_type": "stream",
     "text": [
      "[[1 7]\n",
      " [2 8]\n",
      " [3 9]]\n"
     ]
    }
   ],
   "source": [
    "#axis1\n",
    "a = a = np.stack( (a1, a2), axis=1 )\n",
    "print(a)"
   ]
  },
  {
   "cell_type": "markdown",
   "metadata": {},
   "source": [
    "Numpy proporciona un helper hstack() para hacer una concatenación por filas, el helper vstack() lo hace por columnas y un helper dstack() para hacer una concatenación por profundidad\n"
   ]
  },
  {
   "cell_type": "code",
   "execution_count": 30,
   "metadata": {},
   "outputs": [
    {
     "name": "stdout",
     "output_type": "stream",
     "text": [
      "a1 = \n",
      " [-3 -2 -1]\n",
      "a2 = \n",
      " [1 2 3]\n"
     ]
    }
   ],
   "source": [
    "a1 = np.array([-3, -2, -1])\n",
    "a2 = np.array([1, 2, 3])\n",
    "print('a1 = \\n', a1)\n",
    "print('a2 = \\n', a2)"
   ]
  },
  {
   "cell_type": "code",
   "execution_count": 31,
   "metadata": {},
   "outputs": [
    {
     "name": "stdout",
     "output_type": "stream",
     "text": [
      "[-3 -2 -1  1  2  3]\n"
     ]
    }
   ],
   "source": [
    "#hstack\n",
    "a = np.hstack( (a1, a2))\n",
    "print(a)\n"
   ]
  },
  {
   "cell_type": "code",
   "execution_count": 32,
   "metadata": {},
   "outputs": [
    {
     "name": "stdout",
     "output_type": "stream",
     "text": [
      "[[-3 -2 -1]\n",
      " [ 1  2  3]]\n"
     ]
    }
   ],
   "source": [
    "#vstack\n",
    "a = np.vstack( (a1, a2))\n",
    "print(a)\n"
   ]
  },
  {
   "cell_type": "code",
   "execution_count": 33,
   "metadata": {},
   "outputs": [
    {
     "name": "stdout",
     "output_type": "stream",
     "text": [
      "[[[-3  1]\n",
      "  [-2  2]\n",
      "  [-1  3]]]\n"
     ]
    }
   ],
   "source": [
    "#dstack\n",
    "a = np.dstack( (a1, a2))\n",
    "print(a)\n"
   ]
  },
  {
   "cell_type": "markdown",
   "metadata": {},
   "source": [
    "Array 2D"
   ]
  },
  {
   "cell_type": "code",
   "execution_count": 34,
   "metadata": {},
   "outputs": [
    {
     "name": "stdout",
     "output_type": "stream",
     "text": [
      "b1 = \n",
      " [[-6 -5]\n",
      " [-4 -3]\n",
      " [-2 -1]]\n",
      "b2 = \n",
      " [[1 2]\n",
      " [3 4]\n",
      " [5 6]]\n"
     ]
    }
   ],
   "source": [
    "b1 = np.array([[-6, -5], [-4, -3], [-2, -1]])\n",
    "b2 = np.array([[1, 2], [3, 4], [5, 6]])\n",
    "print('b1 = \\n', b1)\n",
    "print('b2 = \\n', b2)"
   ]
  },
  {
   "cell_type": "code",
   "execution_count": 35,
   "metadata": {},
   "outputs": [
    {
     "name": "stdout",
     "output_type": "stream",
     "text": [
      "[[-6 -5  1  2]\n",
      " [-4 -3  3  4]\n",
      " [-2 -1  5  6]]\n"
     ]
    }
   ],
   "source": [
    "#hstack\n",
    "b = np.hstack( (b1, b2) )\n",
    "print(b)\n"
   ]
  },
  {
   "cell_type": "code",
   "execution_count": 36,
   "metadata": {},
   "outputs": [
    {
     "name": "stdout",
     "output_type": "stream",
     "text": [
      "[[-6 -5]\n",
      " [-4 -3]\n",
      " [-2 -1]\n",
      " [ 1  2]\n",
      " [ 3  4]\n",
      " [ 5  6]]\n"
     ]
    }
   ],
   "source": [
    "#vstack\n",
    "b = np.vstack( (b1, b2) )\n",
    "print(b)\n"
   ]
  },
  {
   "cell_type": "code",
   "execution_count": 37,
   "metadata": {},
   "outputs": [
    {
     "name": "stdout",
     "output_type": "stream",
     "text": [
      "[[[-6  1]\n",
      "  [-5  2]]\n",
      "\n",
      " [[-4  3]\n",
      "  [-3  4]]\n",
      "\n",
      " [[-2  5]\n",
      "  [-1  6]]]\n"
     ]
    }
   ],
   "source": [
    "#dstack\n",
    "b = np.dstack( (b1, b2) )\n",
    "print(b)\n"
   ]
  },
  {
   "cell_type": "markdown",
   "metadata": {},
   "source": [
    "Array 3D"
   ]
  },
  {
   "cell_type": "code",
   "execution_count": null,
   "metadata": {},
   "outputs": [],
   "source": [
    "c1 = np.array([[[-10, -9], [-8, -7], [-6, -5]], [[-4, -3], [-2, -1], [0, 0]]])\n",
    "c2 = np.array([[[0, 0], [1, 2], [3, 4]], [[5, 6], [7, 8], [9, 10]]])\n",
    "print('c1 = \\n', c1)\n",
    "print('c2 = \\n', c2)"
   ]
  },
  {
   "cell_type": "code",
   "execution_count": null,
   "metadata": {},
   "outputs": [],
   "source": [
    "#hstack\n",
    "c = 0\n",
    "print(c)\n"
   ]
  },
  {
   "cell_type": "code",
   "execution_count": null,
   "metadata": {},
   "outputs": [],
   "source": [
    "#vstack\n",
    "c = 0\n",
    "print(c)\n"
   ]
  },
  {
   "cell_type": "code",
   "execution_count": null,
   "metadata": {},
   "outputs": [],
   "source": [
    "#dstack\n",
    "c = 0\n",
    "print(c)\n"
   ]
  },
  {
   "cell_type": "markdown",
   "metadata": {},
   "source": [
    "## División de Arrays\n",
    "El proceso inverso a la concatenación es la división de arrays. La división de arrays consiste en romper un array en múltiples arrays.\n",
    "\n",
    "**.array_split(array, division)** divide un array y lo almacena en una lista\n"
   ]
  },
  {
   "cell_type": "code",
   "execution_count": 39,
   "metadata": {},
   "outputs": [
    {
     "name": "stdout",
     "output_type": "stream",
     "text": [
      "[1 2 3 4 5 6 7 8]\n"
     ]
    }
   ],
   "source": [
    "x = np.array([1, 2, 3, 4, 5, 6, 7, 8])\n",
    "print(x)"
   ]
  },
  {
   "cell_type": "code",
   "execution_count": 45,
   "metadata": {},
   "outputs": [
    {
     "name": "stdout",
     "output_type": "stream",
     "text": [
      "Array x = [1 2 3 4 5 6 7 8]\n",
      "Array y: [array([1, 2]), array([3, 4]), array([5, 6]), array([7, 8])]\n"
     ]
    }
   ],
   "source": [
    "#split\n",
    "y = np.array_split(x, 4)\n",
    "print(\"Array x =\", x)\n",
    "print(\"Array y:\", y)\n"
   ]
  },
  {
   "cell_type": "markdown",
   "metadata": {},
   "source": [
    "Numpy proporciona un helper hsplit() para dividir un array por filas, el helper vsplit () lo hace por columnas y el helper dsplit () lo hace por profundidad\n"
   ]
  },
  {
   "cell_type": "code",
   "execution_count": 46,
   "metadata": {},
   "outputs": [
    {
     "name": "stdout",
     "output_type": "stream",
     "text": [
      "Horizontal split [array([1, 2]), array([3, 4]), array([5, 6]), array([7, 8])]\n"
     ]
    }
   ],
   "source": [
    "#horizontal split\n",
    "h_arr = np.hsplit(x, 4)\n",
    "print('Horizontal split', h_arr)"
   ]
  },
  {
   "cell_type": "code",
   "execution_count": 48,
   "metadata": {},
   "outputs": [
    {
     "name": "stdout",
     "output_type": "stream",
     "text": [
      "Bi dimensional matriz\n",
      " [[ 2  4  6]\n",
      " [ 1  3  5]\n",
      " [ 7 11 10]]\n",
      "Horizontal split [array([[2, 4, 6]]), array([[1, 3, 5]]), array([[ 7, 11, 10]])]\n"
     ]
    }
   ],
   "source": [
    "#vertical split (solo para arreglos de 2 o más dimensiones)\n",
    "arr2d = np.array([[2, 4, 6], [1, 3, 5], [7, 11, 10]])\n",
    "v_arr = np.vsplit(arr2d, 3)\n",
    "print('Bi dimensional matriz\\n',arr2d)\n",
    "print('Horizontal split', v_arr)"
   ]
  },
  {
   "cell_type": "markdown",
   "metadata": {},
   "source": [
    "## Arrays Transpuestos\n",
    "\n",
    "Ya hemos observado que con NumPy podemos trabajar fácilmente con cálculo matricial, en este mismo campo, vamos a aprender como transponer arreglos y matrices.\n",
    "La traspuesta $𝑨^𝑇$ de una matriz 𝑨 puede ser obtenida reflejando los elementos a lo largo de su diagonal\n"
   ]
  },
  {
   "cell_type": "code",
   "execution_count": 50,
   "metadata": {},
   "outputs": [
    {
     "name": "stdout",
     "output_type": "stream",
     "text": [
      "[[1 2 3]\n",
      " [4 5 6]]\n",
      "[[1 4]\n",
      " [2 5]\n",
      " [3 6]]\n"
     ]
    }
   ],
   "source": [
    "q1 = np.array([[1,2,3],[4,5,6]])\n",
    "print(q1)\n",
    "# Tranpuesta\n",
    "print(q1.T)\n"
   ]
  },
  {
   "cell_type": "code",
   "execution_count": 51,
   "metadata": {},
   "outputs": [
    {
     "name": "stdout",
     "output_type": "stream",
     "text": [
      "[[1 2 3]\n",
      " [4 5 6]]\n"
     ]
    }
   ],
   "source": [
    "# Tranpuesta de la transpuesta\n",
    "print(q1.T.T)\n"
   ]
  },
  {
   "cell_type": "markdown",
   "metadata": {},
   "source": [
    "## Funciones de los Arrays"
   ]
  },
  {
   "cell_type": "markdown",
   "metadata": {},
   "source": [
    "Numpy posee unas funciones universales de la clase array que permiten aplicar funciones matemáticas comunes a los elementos del array.\n",
    "Funciones Matemáticas\n",
    "* np.add(a1, a2): Suma dos arreglos\n",
    "* np.subtract(a2, a1): Resta dos arreglos\n",
    "* np.sqrt(a1): Obtiene la raíz cuadrada del arreglo\n",
    "* np.power(a1,  2): Eleva a una potencia el arreglo\n",
    "* np.sign(a1): Devuelve el signo del arreglo\n"
   ]
  },
  {
   "cell_type": "code",
   "execution_count": 52,
   "metadata": {},
   "outputs": [
    {
     "name": "stdout",
     "output_type": "stream",
     "text": [
      "Array 1 =  [0 1 2 3 4]\n",
      "Array 2 =  [ 8 -1 -9  4  2]\n"
     ]
    }
   ],
   "source": [
    "#code\n",
    "a1 = np.arange(0, 5)\n",
    "a2 = np.array([8, -1, -9, 4, 2])\n",
    "print('Array 1 = ', a1)\n",
    "print('Array 2 = ', a2)"
   ]
  },
  {
   "cell_type": "code",
   "execution_count": 53,
   "metadata": {},
   "outputs": [
    {
     "name": "stdout",
     "output_type": "stream",
     "text": [
      "Suma de Arreglos =  [ 8  0 -7  7  6]\n"
     ]
    }
   ],
   "source": [
    "#Suma\n",
    "asum = np.add(a1, a2)\n",
    "print('Suma de Arreglos = ', asum)"
   ]
  },
  {
   "cell_type": "code",
   "execution_count": 54,
   "metadata": {},
   "outputs": [
    {
     "name": "stdout",
     "output_type": "stream",
     "text": [
      "Resta de Arreglos =  [-8  2 11 -1  2]\n"
     ]
    }
   ],
   "source": [
    "#Resta\n",
    "ares = np.subtract(a1,a2)\n",
    "print('Resta de Arreglos = ', ares)"
   ]
  },
  {
   "cell_type": "code",
   "execution_count": 56,
   "metadata": {},
   "outputs": [
    {
     "name": "stdout",
     "output_type": "stream",
     "text": [
      "Raíz Cuadrada de Arreglos =  [0.         1.         1.41421356 1.73205081 2.        ]\n"
     ]
    }
   ],
   "source": [
    "#Raíz cuadrada a cada elemento\n",
    "asqrt = np.sqrt(a1)\n",
    "print('Raíz Cuadrada de Arreglos = ', asqrt)"
   ]
  },
  {
   "cell_type": "code",
   "execution_count": 57,
   "metadata": {},
   "outputs": [
    {
     "name": "stdout",
     "output_type": "stream",
     "text": [
      "Potencia de Arreglos =  [  0   1  16  81 256]\n"
     ]
    }
   ],
   "source": [
    "#Potencias\n",
    "apow = np.power(a1, 4)\n",
    "print('Potencia de Arreglos = ', apow)"
   ]
  },
  {
   "cell_type": "code",
   "execution_count": 58,
   "metadata": {},
   "outputs": [
    {
     "name": "stdout",
     "output_type": "stream",
     "text": [
      "Signos de los elementos del vector =  [ 1 -1 -1  1  1]\n"
     ]
    }
   ],
   "source": [
    "#Signos\n",
    "asig = np.sign(a2)\n",
    "print('Signos de los elementos del vector = ', asig)"
   ]
  },
  {
   "cell_type": "markdown",
   "metadata": {},
   "source": [
    "Numpy posee unas funciones universales de la clase array que permiten aplicar funciones matemáticas comunes a los elementos del array.\n",
    "**Funciones Trigonométricas**\n",
    "\n",
    "np.sin(a_1): Calcula el seno\n",
    "\n",
    "np.tan(a_1): Calcula el coseno\n",
    "\n",
    "np.deg2rad(a_1): Convierte de grados a radianes\n"
   ]
  },
  {
   "cell_type": "code",
   "execution_count": 60,
   "metadata": {},
   "outputs": [
    {
     "name": "stdout",
     "output_type": "stream",
     "text": [
      "[0.         0.67952262 0.99706973 0.78348689 0.15254773]\n"
     ]
    }
   ],
   "source": [
    "#Code\n",
    "print(np.sin(  np.rad2deg(a1)  ))"
   ]
  },
  {
   "cell_type": "markdown",
   "metadata": {},
   "source": [
    "Numpy posee unas funciones universales de la clase array que permiten aplicar funciones matemáticas comunes a los elementos del array.\n",
    "**Funciones Comparativas**\n",
    "\n",
    "np.maximum(a1, a2): Obtiene el máximo de dos arrays\n",
    "\n",
    "np.equal(a1, a2): Compara los índices iguales\n",
    "\n",
    "np.greater(a1, a2): Compara quien es más grande\n"
   ]
  },
  {
   "cell_type": "code",
   "execution_count": 61,
   "metadata": {},
   "outputs": [
    {
     "name": "stdout",
     "output_type": "stream",
     "text": [
      "Array 1 =  [0 1 2 3 4]\n",
      "Array 2 =  [ 8 -1 -9  2  4]\n"
     ]
    }
   ],
   "source": [
    "#code\n",
    "a1 = np.arange(0, 5)\n",
    "a2 = np.array([8, -1, -9, 2, 4])\n",
    "print('Array 1 = ', a1)\n",
    "print('Array 2 = ', a2)"
   ]
  },
  {
   "cell_type": "code",
   "execution_count": 62,
   "metadata": {},
   "outputs": [
    {
     "name": "stdout",
     "output_type": "stream",
     "text": [
      "[8 1 2 3 4]\n"
     ]
    }
   ],
   "source": [
    "print(np.maximum(a1, a2))"
   ]
  },
  {
   "cell_type": "markdown",
   "metadata": {},
   "source": [
    "Numpy posee unas funciones universales de la clase array que permiten aplicar funciones matemáticas comunes a los elementos del array.\n",
    "\n",
    "**Funciones con Flotantes**\n",
    "\n",
    "np.fabs(a3): Valor absoluto\n",
    "\n",
    "np.ceil(a3): Redondeo al número más grande\n",
    "\n",
    "np.floor(a3): Redondeo hacia el número mas bajo\n"
   ]
  },
  {
   "cell_type": "code",
   "execution_count": null,
   "metadata": {},
   "outputs": [],
   "source": [
    "#Code\n",
    "print('Array 2 = ', a2)\n",
    "#Obtener valor absoluto\n",
    " "
   ]
  },
  {
   "cell_type": "markdown",
   "metadata": {},
   "source": [
    "Numpy posee unas funciones universales de la clase array que permiten aplicar funciones matemáticas comunes a los elementos del array.\n",
    "\n",
    "**Funciones Aleatorias**\n",
    "\n",
    "np.random.rand(), np.random.rand(4), np.random.rand(4,2): Números aleatórios de decimales para array 1D y 2D\n",
    "\n",
    "np.random.uniform(10, size=[2,2,2]): Números aleatorios para arreglos multidimensionales\n",
    "\n",
    "np.random.randint(10): Números aleatorios entre 0 y N\n"
   ]
  },
  {
   "cell_type": "code",
   "execution_count": 64,
   "metadata": {},
   "outputs": [
    {
     "name": "stdout",
     "output_type": "stream",
     "text": [
      "[[0.50202191 0.03097749 0.89561883 0.52560297 0.80634154 0.3392492 ]\n",
      " [0.05477907 0.33032789 0.55567527 0.11335589 0.53666042 0.02454961]\n",
      " [0.17225569 0.53034266 0.74023801 0.72195757 0.30134043 0.20639817]\n",
      " [0.06065049 0.65421043 0.14373316 0.62904883 0.2896649  0.61477733]\n",
      " [0.27127488 0.7858423  0.43261826 0.11438867 0.42569138 0.82209804]\n",
      " [0.76465995 0.94833067 0.00624875 0.88365187 0.28000256 0.69063217]]\n"
     ]
    }
   ],
   "source": [
    "#Code\n",
    "print( np.random.rand(6, 6))"
   ]
  },
  {
   "cell_type": "code",
   "execution_count": 65,
   "metadata": {},
   "outputs": [
    {
     "name": "stdout",
     "output_type": "stream",
     "text": [
      "[[[2.01291346 0.42441983 8.38500703]\n",
      "  [1.21056714 9.43924283 2.2323194 ]]\n",
      "\n",
      " [[0.79734828 6.38826085 1.21493514]\n",
      "  [2.51391136 9.19499931 8.57898714]]]\n"
     ]
    }
   ],
   "source": [
    "print(np.random.uniform(0, 10, [2,2,3]))"
   ]
  },
  {
   "cell_type": "markdown",
   "metadata": {},
   "source": [
    "## Filtrado de Arrays\n",
    "\n",
    "FILTROS BOOLEANOS: Son filtros que devuelven el estado de una condición\n",
    "\n",
    "np.all( ): Devuelve verdadero si todos los elementos son verdaderos\n",
    "\n",
    "\n",
    "np.any( ): Devuelve verdadero si al menos un elemento es verdaderos\n"
   ]
  },
  {
   "cell_type": "code",
   "execution_count": 70,
   "metadata": {},
   "outputs": [
    {
     "name": "stdout",
     "output_type": "stream",
     "text": [
      "Array 1 =  [ 0  0  1 -1 -1  0  1  1 -1  1]\n",
      "Array 2 =  [ True  True  True  True]\n"
     ]
    }
   ],
   "source": [
    "## Filtrado de Arrays\n",
    "a1 = np.random.randint(-1, 2, 10)\n",
    "a2 = np.array([True, True, True, True])\n",
    "print('Array 1 = ', a1)\n",
    "print('Array 2 = ', a2)"
   ]
  },
  {
   "cell_type": "code",
   "execution_count": 72,
   "metadata": {},
   "outputs": [
    {
     "data": {
      "text/plain": [
       "True"
      ]
     },
     "execution_count": 72,
     "metadata": {},
     "output_type": "execute_result"
    }
   ],
   "source": [
    "np.all( a2 == True)"
   ]
  },
  {
   "cell_type": "code",
   "execution_count": 71,
   "metadata": {},
   "outputs": [
    {
     "data": {
      "text/plain": [
       "False"
      ]
     },
     "execution_count": 71,
     "metadata": {},
     "output_type": "execute_result"
    }
   ],
   "source": [
    "np.any(a2 == False)"
   ]
  },
  {
   "cell_type": "markdown",
   "metadata": {},
   "source": [
    "FILTRO WHERE: Filtra un array a partir de una condición y un valor por defecto.\n"
   ]
  },
  {
   "cell_type": "code",
   "execution_count": 74,
   "metadata": {},
   "outputs": [
    {
     "name": "stdout",
     "output_type": "stream",
     "text": [
      "[[2.16712771 4.85646193 3.0053108 ]\n",
      " [1.81604004 4.8739528  4.3678989 ]\n",
      " [4.33563037 4.75326823 3.79415187]]\n",
      "[[-2.16712771  9.71292385  6.0106216 ]\n",
      " [-1.81604004  9.7479056   8.7357978 ]\n",
      " [ 8.67126075  9.50653647  7.58830374]]\n"
     ]
    }
   ],
   "source": [
    "#code\n",
    "a2 = np.random.uniform(0,5, size=[3,3]) #Arreglo multidimensional aleatorio\n",
    "print(a2)\n",
    "a2f = np.where( a2 >= 3, a2*2, -a2)\n",
    "print(a2f)\n"
   ]
  },
  {
   "cell_type": "markdown",
   "metadata": {},
   "source": [
    "FILTRO UNIQUE: Es un filtro empleado dentro de un array para poder encontrar los elementos únicos o simplemente elementos que no son repetidos.\n"
   ]
  },
  {
   "cell_type": "code",
   "execution_count": 19,
   "metadata": {},
   "outputs": [
    {
     "name": "stdout",
     "output_type": "stream",
     "text": [
      "[ 0  1  1  0  0  1  0 -1 -1 -1]\n",
      "[-1  0  1]\n"
     ]
    }
   ],
   "source": [
    "#code\n",
    "a1 = np.random.randint(-1, 2, 10)\n",
    "print(a1)\n",
    "#Filtro Unique\n",
    "a1f = np.unique(a1)\n",
    "print(a1f)\n"
   ]
  },
  {
   "cell_type": "markdown",
   "metadata": {},
   "source": [
    "FILTRO IN1D: Retorna un array de una dimensión indicando si un determinado elemento existe dentro de un array.\n"
   ]
  },
  {
   "cell_type": "markdown",
   "metadata": {},
   "source": [
    "## Módulos de NumPy"
   ]
  },
  {
   "cell_type": "markdown",
   "metadata": {},
   "source": [
    "Algunos módulos de NumPy útiles para ingeniería son:\n",
    "\n",
    "numpy.linag: Contiene todas las funciones para trabajar con álgebra lineal.\n",
    "\n",
    "numpy.fft: Funciones para trabajar con la transformada de Fourier discreta.\n",
    "\n",
    "https://numpy.org/doc/stable/reference/routines.linalg.html \n"
   ]
  },
  {
   "cell_type": "code",
   "execution_count": null,
   "metadata": {},
   "outputs": [],
   "source": []
  }
 ],
 "metadata": {
  "kernelspec": {
   "display_name": "Python 3.10.4 64-bit",
   "language": "python",
   "name": "python3"
  },
  "language_info": {
   "codemirror_mode": {
    "name": "ipython",
    "version": 3
   },
   "file_extension": ".py",
   "mimetype": "text/x-python",
   "name": "python",
   "nbconvert_exporter": "python",
   "pygments_lexer": "ipython3",
   "version": "3.10.7"
  },
  "orig_nbformat": 4,
  "vscode": {
   "interpreter": {
    "hash": "012a3f856154b24f1153bf91a628b97e6f2eb77bb61013846ac8a83fabb585fb"
   }
  }
 },
 "nbformat": 4,
 "nbformat_minor": 2
}
