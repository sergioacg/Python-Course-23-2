{
 "cells": [
  {
   "attachments": {},
   "cell_type": "markdown",
   "id": "05dc2cbc",
   "metadata": {},
   "source": [
    "# Funciones de Anónimas\n",
    "\n",
    "Las funciones anónimas también conocidas como Lambda Functions es una declaración especial de una función en Python que no tiene un identificador (Nombre)\n",
    "\n",
    "## Función Anónima Suma"
   ]
  },
  {
   "cell_type": "code",
   "execution_count": null,
   "id": "2797c8e1",
   "metadata": {},
   "outputs": [],
   "source": []
  },
  {
   "cell_type": "code",
   "execution_count": null,
   "id": "b14e39bb",
   "metadata": {},
   "outputs": [],
   "source": []
  },
  {
   "cell_type": "markdown",
   "id": "fc7706d1",
   "metadata": {},
   "source": [
    "## Función Anónima Discriminante"
   ]
  },
  {
   "cell_type": "markdown",
   "id": "0085c726",
   "metadata": {},
   "source": [
    "Crear una función lambda que calcule el discriminante de una ecuación cuadrática\n"
   ]
  },
  {
   "cell_type": "code",
   "execution_count": null,
   "id": "3ce0be51",
   "metadata": {},
   "outputs": [],
   "source": []
  },
  {
   "attachments": {},
   "cell_type": "markdown",
   "id": "896e0e89",
   "metadata": {},
   "source": [
    "# Funciones de Orden Superior\n",
    "Una función se denomina Función de orden superior si esta contiene otras funciones como parámetros de entrada o si devuelve una función como salida, es decir, las funciones que operan con otra función se conocen como Funciones de orden superior."
   ]
  },
  {
   "cell_type": "code",
   "execution_count": null,
   "id": "6d2a238b",
   "metadata": {},
   "outputs": [],
   "source": []
  },
  {
   "cell_type": "markdown",
   "id": "d8638612",
   "metadata": {},
   "source": [
    "## FILTER()\n",
    "*filter(function, iterable)*\n",
    "\n",
    "La función filter() devuelve un iterador donde los elementos se filtran a través de una función para probar si el elemento es aceptado o no.\n",
    "\n",
    "Devuelve un objeto generador, de ahí que usemos la función list() para convertirlo a lista\n",
    "\n",
    "\n",
    "### Ejemplo 1"
   ]
  },
  {
   "cell_type": "code",
   "execution_count": null,
   "id": "341460ad",
   "metadata": {},
   "outputs": [],
   "source": []
  },
  {
   "cell_type": "markdown",
   "id": "b090c5e8",
   "metadata": {},
   "source": [
    "### Ejemplo 2"
   ]
  },
  {
   "cell_type": "code",
   "execution_count": null,
   "id": "5e306907",
   "metadata": {},
   "outputs": [],
   "source": []
  },
  {
   "cell_type": "markdown",
   "id": "cec70b7a",
   "metadata": {},
   "source": [
    "## MAP()\n",
    "*map(function, iterables)*\n",
    "\n",
    "* La función map() ejecuta una función específica para cada elemento en un iterable. El objeto se envía a la función como parámetro.\n",
    "\n",
    "* El primer argumento de la función es la función de mapeo. Los segundos argumentos son uno o varios iterables que se pasan secuencialmente a la función de mapeo.\n",
    "\n",
    "* Devuelve un objeto generador, de ahí que usemos la función list() para convertirlo a lista\n",
    "\n",
    "\n",
    "### Ejemplo 1\n"
   ]
  },
  {
   "cell_type": "code",
   "execution_count": null,
   "id": "94ea1e09",
   "metadata": {},
   "outputs": [],
   "source": []
  },
  {
   "cell_type": "markdown",
   "id": "4632b233",
   "metadata": {},
   "source": [
    "### Ejemplo 2"
   ]
  },
  {
   "cell_type": "code",
   "execution_count": null,
   "id": "0f6e8814",
   "metadata": {},
   "outputs": [],
   "source": []
  },
  {
   "cell_type": "markdown",
   "id": "fd3402a2",
   "metadata": {},
   "source": [
    "## REDUCE()\n",
    "*from functools import reduce*\n",
    "\n",
    "*reduce(function, iterables)*\n",
    "\n",
    "La función reduce()  acepta una función y una secuencia y devuelve un único valor calculado de la siguiente manera:\n",
    "\n",
    "* Inicialmente, se llama a la función con los dos primeros elementos de la secuencia y se devuelve el resultado.\n",
    "\n",
    "* A continuación, se vuelve a llamar a la función con el resultado obtenido en el paso 1 y el siguiente valor de la secuencia. Este proceso se repite hasta que hay elementos en la secuencia.\n",
    "\n",
    "\n",
    "### Ejemplo 1"
   ]
  },
  {
   "cell_type": "code",
   "execution_count": null,
   "id": "0f4e5397",
   "metadata": {},
   "outputs": [],
   "source": []
  },
  {
   "cell_type": "markdown",
   "id": "c47d92e8",
   "metadata": {},
   "source": [
    "### Ejemplo 2"
   ]
  },
  {
   "cell_type": "code",
   "execution_count": null,
   "id": "2ce4043b",
   "metadata": {},
   "outputs": [],
   "source": []
  },
  {
   "cell_type": "code",
   "execution_count": null,
   "id": "05909422",
   "metadata": {},
   "outputs": [],
   "source": []
  }
 ],
 "metadata": {
  "kernelspec": {
   "display_name": "Python 3 (ipykernel)",
   "language": "python",
   "name": "python3"
  },
  "language_info": {
   "codemirror_mode": {
    "name": "ipython",
    "version": 3
   },
   "file_extension": ".py",
   "mimetype": "text/x-python",
   "name": "python",
   "nbconvert_exporter": "python",
   "pygments_lexer": "ipython3",
   "version": "3.10.7"
  }
 },
 "nbformat": 4,
 "nbformat_minor": 5
}
